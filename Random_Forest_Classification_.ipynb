{
  "nbformat": 4,
  "nbformat_minor": 0,
  "metadata": {
    "colab": {
      "provenance": []
    },
    "kernelspec": {
      "name": "python3",
      "display_name": "Python 3"
    },
    "language_info": {
      "name": "python"
    }
  },
  "cells": [
    {
      "cell_type": "code",
      "source": [
        "import pandas as pd\n",
        "import numpy as np\n",
        "from sklearn.model_selection import train_test_split\n",
        "\n",
        "\n",
        "data=pd.read_csv(\"data.csv\")\n",
        "data.drop([\"Unnamed: 32\",\"id\"],axis=1,inplace=True)\n",
        "data[\"diagnosis\"]=[1 if i==\"M\" else 0 for i in data[\"diagnosis\"]]\n",
        "x=data.drop([\"diagnosis\"],axis=1).values\n",
        "y=data[\"diagnosis\"].values\n",
        "#normalization\n",
        "X=(x-np.min(x))/(np.max(x)-np.min(x))\n",
        "\n",
        "\n",
        "\n",
        "X_train,X_test,y_train,y_test=train_test_split(X,y,test_size=0.20,random_state=48)"
      ],
      "metadata": {
        "id": "ipN5R5UVpuH6"
      },
      "execution_count": 86,
      "outputs": []
    },
    {
      "cell_type": "markdown",
      "source": [
        "## desicion tree"
      ],
      "metadata": {
        "id": "c-hfnSl5z6Jk"
      }
    },
    {
      "cell_type": "code",
      "source": [
        "from sklearn.tree import DecisionTreeClassifier\n",
        "model=DecisionTreeClassifier()\n",
        "model.fit(X_train,y_train)\n",
        "prediction=model.predict(X_test)"
      ],
      "metadata": {
        "id": "HvoSH_FwvFy6"
      },
      "execution_count": 87,
      "outputs": []
    },
    {
      "cell_type": "code",
      "source": [
        "print(f\"Decision tree accuary {model.score(X_test,y_test)}\")"
      ],
      "metadata": {
        "colab": {
          "base_uri": "https://localhost:8080/"
        },
        "id": "qvH3Rmj7vm5a",
        "outputId": "ed67bc79-3767-4802-cd4b-29fb7f759e71"
      },
      "execution_count": 88,
      "outputs": [
        {
          "output_type": "stream",
          "name": "stdout",
          "text": [
            "Decision tree accuary 0.9298245614035088\n"
          ]
        }
      ]
    },
    {
      "cell_type": "markdown",
      "source": [
        "## Random Forest"
      ],
      "metadata": {
        "id": "252h1E8e0LN6"
      }
    },
    {
      "cell_type": "code",
      "source": [
        "from sklearn.ensemble import RandomForestClassifier\n",
        "model2=RandomForestClassifier(n_estimators=200,random_state=1)\n",
        "model2.fit(X_train,y_train)\n",
        "print(f\"Random forest accuracy: {model2.score(X_test,y_test)}\")"
      ],
      "metadata": {
        "colab": {
          "base_uri": "https://localhost:8080/"
        },
        "id": "NkJbDrjcwEDx",
        "outputId": "15ec378b-1214-4346-f2d4-c1ad2c747997"
      },
      "execution_count": 89,
      "outputs": [
        {
          "output_type": "stream",
          "name": "stdout",
          "text": [
            "Random forest accuracy: 0.9385964912280702\n"
          ]
        }
      ]
    },
    {
      "cell_type": "code",
      "source": [],
      "metadata": {
        "id": "_tQaFPC00aFa"
      },
      "execution_count": 89,
      "outputs": []
    }
  ]
}