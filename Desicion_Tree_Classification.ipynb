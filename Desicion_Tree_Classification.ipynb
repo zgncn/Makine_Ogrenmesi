{
  "nbformat": 4,
  "nbformat_minor": 0,
  "metadata": {
    "colab": {
      "provenance": []
    },
    "kernelspec": {
      "name": "python3",
      "display_name": "Python 3"
    },
    "language_info": {
      "name": "python"
    }
  },
  "cells": [
    {
      "cell_type": "markdown",
      "source": [
        "![Adsız.png](data:image/png;base64,iVBORw0KGgoAAAANSUhEUgAABU8AAAI2CAIAAADvs+6zAAAAAXNSR0IArs4c6QAAAARnQU1BAACxjwv8YQUAAAAJcEhZcwAADsMAAA7DAcdvqGQAAE2GSURBVHhe7d3tedtKzyDgp5D9uVW4g20k9aSHd2tIM6lha3h2REAINEPK8kccm77vCxcPBgNSMmPLRuz4/Oe/AAAAwLmY9gEAAOBsTPsAAABwNqZ9AAAAOBvTPgAAAJyNaR8AAADOxrQPAAAAZ2PaBwAAgLMx7QMAAMDZmPYBAADgbEz7AAAAcDamfQAAADgb0z4AAACcjWkfAAAAzsa0DwAAAGdj2gcAAICzMe0DAADA2Zj2gVP6/fPpP93T049fv3/n5rL7n//8+JVbY/PXj6fr9tOPn5eTfv24LK49Ow3Dbc/w+9fPH38eZjyBn7/WJ/B0PX3YrtALF+tT3VzalrfxzyMcvYF333AAAE7EtA+c0v6QXPP64dAbM/uNsdUn+aUj5/PbaX//8fe2r6W3T/sXefrRG3hUBwDgbEz7wCnFWFuj8+Xb8W24nXbLdZL/kd8j3749P05pk3yk11NHw1Pmfdq/DtVPf77Z/ufS2zKewPYjAvU0tpb1SaV+/XD7VuRjxvLoDTyqAwBwNqZ94JTWsTan4W1cPhh6cyLvE3Vok3ZeZpz85+fyN2vPdJ1o6NP4j1+9Fg2Hk3i7frp9K24e9Hbrj6M6AABnY9oHTmlnrG2TdU7GJfpu5uUbN5P29ccELi6/DWAr3vS0R2r65SO/pPNph5P4zXPYzG/FcD17/w08rgMAcDamfeCUYqy9GWbbDL4/9Ga1D9RpnrR/91/Ul/V5bF8m6X75yFt6ad5Om88q83OoC5ann7W5bsVVj+oAAJyNaR84pT8z9FUOutOEfSMG6puJOqyT9ubyr/YvG9uFWk9/qJLFeNBYZMN18bppfzvh+msBrttt68ZRHQCAszHtA6c0jbWv/C1923njlD+T9jiz/b/8fv/cNrYL9Wl85zrbI9ZjxhO4zubR/7T90r7DSbxfP9y8FbG4Xa3XOqoDAHA2pn3glHL4nVxn5XX3dma+MU66mfa3YhdXvZnG9x/+z5gd+9enM1z/fuB4En9m2r82xHJ9/Pt1AADOxrQPnNI01j5t35HPvftD780/yX/6sf3q/T5p7+1fzNP49n/v+/MwrXOIJ7CO7v2JTJ6d9rNjazl6A++94QAAnIlpHwAAAM7GtA8AAABnY9oHAACAszHtAwAAwNmY9gEAAOBsTPsAAABwNqZ9AAAAOJuTTPv5/42+yioAAAB8S2cYjHPEv5V7AAAA8P2Y9gEAAOBsvvxUnMP9IrcBAADg+zHtAwAAwNmY9gEAAOBsPsVU/OvHZT7/8SuX//3982msn37+zvU9lzP35DYAAAB8P59jKr4d92P12LBv2gcAAIDZJ5mK+4A/f6f/vkvvntwGAACA7+ezTMX1w/uRPDzsm/YBAABg9mmm4hz3h8t/Hvsp/otttN+R2wAAAPD9fKKpOH6C/+IFw75pHwAAAGafaSq+jvsP/xT/RZyyym0AAAD4fj7TVPzSf7K/2Ub7HbkNAAAA388nmopfNeyb9gEAAGD2eabi1w37pn0AAACYffmpOIf7RW4DAADA92PaBwAAgLMx7QMAAMDZmPYBAADgbEz7AAAAcDamfQAAADgb0z4AAACcjWkfAAAAzsa0DwAAAGdj2gcAAICzMe0DAADA2Zj2AQAA4GxM+wAAAHA2pn0AAAA4G9M+AAAAnI1pHwAAAM7GtA8AAABnY9oHAACAszHtAwAAwNmY9gEAAOBsTPsAAABwNqZ9AAAAOBvTPgAAAJyNaR8AAADOxrQPAAAAZ2PaBwAAgLMx7QMAAMDZmPYBAADgbEz7AAAAcDamfQAAADgb0z4AAACcjWkfAAAAzsa0DwAAAGdj2gcAAICzMe0DAADA2Zj2AQAA4GxM+wAAAHA2pn0AAAA4G9M+AAAAnI1pHwAAAM7GtA8AAABnY9oHAACAszHtAwAAwNmY9gEAAOBsTPsAAABwNqZ9AAAAOBvTPgD899ePy+eOH79y+d/fP5/G+unn71wDAHwxpn0AmMf9WBn2AYCvy7TPg+bvewGcSx/w3/CK9/vXj8tPBfST4+cEGi+lAMDfZ9rnQf1r3+e+Dr58sXv92vbpxy/fGwO+gvrh/ZzOj1/knp5+/Nx7aetjvWkfAPi3TPs86HDar6+Pt9XOl7V+Fhb4GvLlbHjmlStf5eaZf5x/Kf2c/0I0rmvEBwA+lGmfBx1+P39n2r9+P/93nGTcB76IfNEa7r9u/W4/wnR5xbvpXV4u42Xyyk88AQAfwrT/rf3+Gf+8tL763L4kffr5K//Z6aV+/YK3f/la+e2XsOtfBuT+zt8RAHxG13H/sZetbejf+vtfDjwz7V94VQQA/jrT/jcWX5A+/bh4iq9U1y9Jh/iq9DXTfj6C7+wDX8XL/o7y96/r35nenfb/GCds/V4XAYC/zrT/jV2n/fYzpfF17vyD+NvXrP3L15svZfOc5UvX+prZ17TAV/HosP9nzI+XzJvXuTvT/uOPAADwRqb9b61+YP/y1eqlME/u7WvWl037Rn3gC3p0FM+XzoPfzD9P+79//ri+GPptJgDAhzHtkz9Yun3tmZP79Xv78XVvfFX6+LR/cxrA+Rz8H/jy1a+7vFCu5Wf/OgEA4M1M+9/X5Vf05T/av9yxNu3fyqn9mWk/XEr5nasbJn/gGziY9sdG/0mq3Z8HAAB4b6b9b6x9XXr73fzxxej1C9Prxp1p/7K8dl+GetM+8I3lq94mSwAA/4Jpny6nfbM5wCvEJ6AuNwAAPpxpn860D/BK8dnnSDYBAHwU0z6daR/gNeJTT5iWXTQDAHwA0z4AvF5+1rnK6lVWb+UeAMDfZNoHgFfKTzlXWV3k9iK3AQD+AtM+ALxGfr65yuqx7FvkNgDAuzLt84y8oVdZBfje8jVxk6WH5Wm3cg8A4J2Y9rkn7+at3AP4rvLVcJOll8vzF7kNAPA2pn3uybt5K/cAvp98HbzK6hvkhRa5DQDwWqZ9DuWtXOQ2wDeTL4JXWX0nedFbuQcA8HKmfQ7lrVzkNsB3kq+AV1l9b3n1RW4DADzMtM+hvJWL3Ab4NvLlb5OlvykfaZHb/86vH5en8eNXLv/7++fTWD/9/H3Jf/18uqwunn5spYvfP39k9enHr2sRAPgApn0O5a1c5DbAN5AvfFdZ/Sj5qIvc/ni3436stmE/0m5ryo4fF0/xtwIAwAcx7XMob+UitwHOLl/1rrL64fLhF7n9odqA30f/Xv7v7z8b12nfd/UB4OOZ9jmUt3KR2wCnli95V1n9d/J5LHL7o9QP70cSw37mt+InAH5df5D/MvNfCgDABzHtcyhv5SK3Ac4rX++usvo55HNa5PbfluP+cPlP/nD+zff2V5d/039vHwD4C0z7HMpbuchtgJPKF7tNlj6ffH6L3P6bYrS/+DO+/6ldXb6Tf/kVffmP9i8l0z4AfCTTPofyVi5yG+B08mXuKqufWD7RRW7/JdfR/uZH83//GpN91Dfzj/j7x/sA8MFM+xzKW7nIbYBzyde4q6x+EfmkF7n9vvo/2QcAPivTPofyVi5yG+BE8gXuKqtfTT77RW6/E8M+AHwJpn0O5a1c5DbAWeSr2yZLX1y+Mbdy760M+wDwNZj2OZS3cpHbAG+1zY1PP3/9vP5f2p5+tN/jdvMPwZ9G29/5Z9/5AJssnUW+VYvcBgBOzbTPobyVi9wGeKv2O9xK/t72va33/nZyXvUqq6eTb94itwGAkzLtcyhv5SK3Ad4qR/r8tn3/CfHK4/v5v/O3wL/juL9d74+snlq+qbdyDwA4HdM+h/JWLnIb4K1ipq//C3uM9NtE39KwFN7kcq0mq99Dvs2L3AYAzsK0z6G8lYvcBnir56b9kf+F7+1vV0pZ+n7y7V/kNgDw9Zn2OZS3cpHbAG91PO1ff5T/RjW+Vl7nKqvfW96LW7kHAHxlpn0O5a1c5DbAW92Z9i/fz69f1T96nq7f5n+1vNJVVtnkTVnkNgDwBZn2OZS3cpHbAF9Hvn5dZZVbeXcWuQ0AfCmmfQ7lrVzkNsAXkS9eV1nlWN6pW7kHAHwRpn0O5a1c5DbAV5CvXJss8Zi8a4vcBgA+N9M+h/JWLnIb4HPL16yrrPJCefsWuQ0AfFamfQ7lrVzkNsAnli9YV1nlDfJW3so9AODzMe1zKG/lIrcBPqt8tbrKKu8h7+kitwGAT8O0z6G8lYvcBviU8qXqKqu8q7y5i9wGAD4B0z6H8lYuchvg88nXqU2W+JvyXt/KPQDgnzLtcyhv5SK3AT6TfIW6yiofIm/6IrcBgH/BtM+hvJWL3Ab4NPLl6SqrfKy8+4vcBgA+lmmfQ3krF7kN8Dnka9NVVvl38k9ikdsAwIcw7XMob+UitwE+gXxh2mSJzyH/VBa5DQD8ZaZ9DuWtXOQ2wL+Wr0qbLPHJ5B/PIrcBgL/GtM+hvJWL3Ab4d/L16CqrfGL5R7XIbQDgvZn2OZS3cpHbAP9IvhhdZZWvIP/MFrkNALwf0z6H8lYuchvgX8hXoqus8qXkH94itwGA92Da51DeykVuA3y4fBnaZImvLP8sF7kNALyBaZ9DeSsXuQ3wgfIF6CqrnEL+oS5yGwB4FdM+h/JWLnIb4KPkq89VVjmd/AO+lXsAwAuZ9jmUt3KR2wAfIl96rrLKeeWf9CK3AYDHmPY5lLdykdsAf1++7lxllW8g/8hv5R4A8IAv9onz//2v/53Z1fjcP4rxRUCX27xB3spFbgP8Zfmis8kS30++B1xlFQB4zpf5rDlG+imimJ/828wfSZ0VSVfnxpIjcT9XuQ3w1+TLzVVW+cbyXcE7AwA87OtN+5FXJT73Rz4tt/OyLZKohN4zOarvelHz1xI3c5Xbe/7n//zfEbkAeJV8rbnKKgAAL/H1pv2KKI4vBGMZST+OiJ7tApnUcdota+W+o+ucwLiNu3L7Vsz5PXJjE8vp2JddbFVkFfge8oXmKqsAALzQF5v2e94jviisfByjs4vdXByLtgc7+/GRU76WuKur3G6m+Tyi16utF+9H9d/RG55tBj6/fJXZZAkAgFf5Gl9O9Ym6RxTHF4WxjC8Qw3ZenhjWvCrTcuj56v7uHa8+8Z/IW7nI7UVM6RVVrGMkVZmiFyO/nLA5yoda1lkRUQS+kHyJ2WQJAIDX+jLTfsW0zC8MN3058ji3VCWScZwidsNuMTzeuXqw7ZPIW7nI7aYG7Bq2a7nt/0mGvns/enNXlZ5MxX7sya77u8Dfli8uV1kFAOANvtIXVTEqT6P1yMeXhnHsajeSsp6+VqakRKU3rD2rl/Z/vOlZxXIc81Yuoq0b03JN11MeyaWp7fao+p2eiqmn8ki2zVT1UHk1V7KV/9Rj2e0WgfeSryxXWQUA4G2+3tdV02iaXx4ucvuuO7P3ujUqUezHSCrvol671VOVrvesu+Go3j3bs9tQxUjqmLdysfXeGPNwH5unvC/r2JcVVa9lHfsyVDHySIaoV/RKNHS1VRHFaTeWwLvLl5WrrAIA8GZf/kur/ApxkdvP2Z1+h936KFa9513UjyIaqjOSoefDneW0Ve5foRtbtduTqleet3IRp0xqKu7JtpOmhh69GPlUqeWUR9IjiltX6sspr/4eUdlaUtW7tbJ6pAe+s3xN2WQJAIB38t2n/Tum0bcXezJUQyR3IvqH3UocK9nKf0yVvqx8Onc6ZRiVqVinrJG3chEn7roz39bWSO7E2hOV0IuV94j61ptJXz4S1Twdu945VNvaOewW4ZvLV5OrrAIA8H5M+7Mx5cZxN/rW1n6xbt2JaNvOS9PWFNUTSelbFdOyIjqHyPtWVNbiiLyVi+h/nRiJ18jtzW6x1G7FVI+8VyKqHvpWRdTrOCWVD7HsUfVIhnUXGPKl5CqrAAC8K9P+HzHiVvJsTKc8cuLo6aLSG6qy7R9u3amsUT1hqve8V0bkrVxcrvJaMff2AXidhGu3H6dlFYeRV/RK5EPfrfwoomc772KqVE/o9b4cqrMn2w58a/k6cpVVAADem2k/1Yjb8/vRT+z5IxHNd86KrW5qiDiqR8RuHftyqkQyRd7KRfS/zjQD94ji1nVReU+q7U70hqPm3Xp/iJ5XJdwpRnInoge+rXwRucoqAAB/gWk/TYPuGr2n8il5/Drj2PWGHrW1Jm+M9ToxjvZK3srFOPfVauiNpCIqW8ufZOhb4xjR89243zB2Q+TTVhzLtAxVXM+Kym70NviG8hVkkyUAAP6abzTtxwSbi826PIr7u6+IeMQwba3xSM+zERfpxzViKI1kHPNWLtaR9XVDbDxcRFUqqXrl96M6twvsnDU1hHV3iqpHcjln07cqdut9OXL4hvK14yqrAAD8Td9i2q9ptiKKsRv67uvi2Yv0ht3mKo6k1G7Up+Tx2C52EXnfqqihNObSvJWL3am1znpWdPaoeu1Wsrt8Np7tXxvunDK2YjeSEpVqezbiLPiG8rVjkyUAAP6y80/7Y4itpEevrLu7cXTKlIeq9DiqR8SJQ1/23cpfFHHidrGLvrXGaIi5dBzzVi62y6RXD7H1KHXcNbZqN/L7EW11DFWJuF8Zx1Bboeehn1LHKao4Evi28rXDqA8A8IG+xbQ/TbNhtx5Jr1dUwxRVr91K7kc/6+iUBy81Yuocy6jUsau2Hn00jchbuYiLTPqJsYz6kWqrzshruepbkfdTKo/lVImI4u5Wj8cbRrLbHMXajQQAAODDnHzanwbaO3HUH/WhV3pepq37MfVfzt9UHvWKtRIx1WN5OX8zVaKnij2JqDE1Im/l4nKtpvojsrqJ5VQM1T/txrKKPdntjKSiV6atiqhPu7vFiPtbU70vYxcAAODjnXzaH/o0+2zUKZX0iOJQy741VR6Jqb8uMtV73NmK6KdHPumdlY/oM2oc81YuLle5qrN6RL3vbr2z+7uhdo86p4ZqqyTUVtXjWPpWqErFS4uXqwDwz/3+9ePpKT+HPf349TurP6+19ONXbADAOZx/2h/6TPtg5JnbuVMyiXo/K/I1+tZRXpWpuPas0c+KfDVtrc01o44kb+UiGkIMt1Pk3nW38kiGyGM3oopldzkVh6qMpOeRdNHQ24ZaTsdIdvMpnt0C4COM4f3px8/rKP/HMtT/5+nn1mTaB+DkvsW038VwG1PuFFXfbRvLqk96sfojqhLJ2tCj9/QTex7JFHfqb5G3cpHbbTaO453oDZczm17f3a1k3Q3T1m5nVGpraoj6bjzbMGLtiQoAH6eG92nm3/4WIAq/f/2Ijm3cjxOM+ACc1jea9vv02+fhnseyksqHWPbKMC272OpnTfnaMxWnrUdiPWVUJkf1Vd7KRW5vphG3LyN6cTvjsuzHdSv0vOv9j4jm6VhRy6lecf+syEPVYwnAX5Jzfczp2wB//W59+5H9y4TfZv5wc2b99cDmz0/4A8BJfKNpv6theDeyaVPLqaGSyCMpU08kFVvLTbEvY3eoSsVu8ZG4c8E78lYucntTQ2/EUeVOvZKqh2l5X10hjrvn9t01WeNyzu1ZFb2ydQHwkfJ79GNA3/v+/Db0bw35twBXcdq1eDvtX/g+PwCn8k2n/RDj7tHQWyPxg5GntRMrj2TbnC8bxV1T51viztXisXblrVzk9tU0AFcS+bRcixG90hvW/I7eH0nplcjHcUrWYi1Lr09bAHycnPcvppF+jPG/fu5M+/V9/fVb+OOEbW+5EgB8Zd962r9vmop3o3dGHtbdqvRlVMJU7Ms3Rr/a9lC5jPyOvJWL3L61DsC1nLZ6HnrDlPTYemdRr+OznXfU6T1y79ZRHYCPUt+ZbyP6nzF/lG9+kv/OqL+p/VwDwAmY9g9Ns/FR9IbIq1LLSvryKKKh9Erl1bwbzzZMEddc5a1c5PatPiFHRLG2jpJxrMrRcnWn4c5ZXW+rq/XIPeDd+d+h8Wbx7vIU70jTP8OffzN/bszfuP/988f1ve/2t/cBwEmY9vdN8/Ajcees2NoufNOzLqvSt3r9LbF7kbj4rryVi9xuajbuo3IlvR6Vqk96w5Rv+6mWu1tTpfR65NVcW71eReA1xoTlf4fG3xLT+XgXaf8S/+hdrv3Mf7mcsL4repcD4Fy+3bTf59vdWTeKMQnfj6l5Omssy51iJc9GdG6nXvStiF6839CTO/JWLnL7Vo3HNSrXctu/6HnXm3s+VfqyirtJHV+hrgO8SY1S/ndovLc24l/f0e684xxN+9t74HXg3/17AgD42r7RtB/zbUVWt3oltbWbT8spL0e7a7HyHmtnxCOVEaNYYln1SHpsXYfyVi5ye1Oj9RrR8KB+VuV9uXXlw4W+exTRCfxVN+PWNlnFKOV/hwYA8A+ddtqfRtk+4kas9Viu9Yi1eKcz9ErVq7hbieJUqej9kQ+1W8WeRD4lkT8rb+Uit6/WAbuSt5gu1Y+RVKyV3Yi2MC2Bt8lvno4Bfe/78/53aPCo+KD4864fHxbXH0X42X7hRX0w/a7fTOjvyAC4debv7feZtqbcKFYSprx6puWUTPkw1SuiGKatt0RecbMue+xWnpW3cpHbmz5Or5FNr1VXiKSuOSXPxuUSV7Fc68CbtB+Wnkb6bUbxv0PjU7u8u21y/Q/djvvtb8Tax1jamrLjx8WTDxkAbpxk2h/jayQhptmaaWO+7cWpshuXM69ieX83ktqtvKKK6+7u1u5Fphg90RZJ6Vu7Ebv35d1c5PYmxuajyKar3eJ9U3+/QuR3Yuqps+oIvJ/6znybN/zv0PgiLu9tm1z/S23A76N/L19+4cB14zrt+64+AKuTTPsh5thIxlbNtFGvpEcUt64/uz3vy60r+2s5xG7V70f1RDKdcnSF+1ceu2WqVE+P3HtO3NVVbm9qlu4R9drtyzpGUvkrrNeJpKJvhWk53F8CD8ofN/a/Q+ML2t7ZbuTGP5IfTT9/97/0qo+nLj7U+q8a3AoAkL7wtN/H1/g0V/k4RsPUtkZvqHwt7l5n2qpliOJuVEO1VbLGna2Ky+Wupkr1TJHbd8VdXeX2Ml1PEQ11LNPuI9bO3cpR9IbIw1SZdoGH1Tca2/cfx3Tif4fGp5fvbMey7yPluB9/e3b9O6/2sbUn//nL4T4A39KXnPanwTVifJKLYyTPRr9O5Nu1M6ljTyoufUtxxFH9YyIePdRyauj5s+JmrnL7KmbmKarek8jXY+2WtfKI6YJHl616dYZej2Sonl4Euj6G9O9G7jua9i/zSvsepf8dGn9fvrttpuUqTvkYfz5K/ozv60fO5cPs8iv68h/tX0qmfQC680z7I7ZPfjujfpxSJ/YrrPk49mLVKw+V96R6Kp/iwbbXRVxwHCdTw27Prrifq9zexDB8FL1hbY7KdAy9ofIH1Yl1XK31UamIZS9WBYBzyE9pmyxdZfVANv1V19H+5u/N2v/RcrNtth+K8Y/3AZh8vWm/ZtejGJ/w+jJOqXPjuBu1ddRTV5ga+nLdfV287iJx1vYULnqx8sfFVw+r3L6aBuOK2B36MpL1WMZyjV6PfOu96PUyLXfVWf30yI8iegD46vLz2SZLe7LjQDb9Dc//kAwAPO9U0/74xNiX0VzHKVkjtoa1HsfSd6dYd3f7t8v8qUcexaEqffeR2M7O5kii8jqXrzT25PZdMRvvHqcYxdota0NYi5VXve8+Yr1C6FeLrYhtE4CvKj+ZbbL0nOw+kE3vx7APwLv4etP+ENNsj/E5capk66aWvSFiKsZytxhJ5JVMecVRsSdrQ4/L+Y9ddjeiLfpf7fKlxp7cfkxNy3Fcl70YSc+rMkwNvdKXVZwc1Uvs1nE3tkYAvqr8TLbJ0gvlyXuy460M+wC8j5NM+xHjU2Mds/Xa3JPKd6N39mXFVN9tq2Kvx7KrrWqYklpGpZIHI/pf7fK1xp7cfrP7I3TtVkPlaz2SobYisno1bVVDLXuyG1s7AF9SfhrbZOkN8kIHsgkA/p2v+tmoptnxCTXy+ORa7sy6sRVn9ait2o28TG29p+dDLHtUfXd3RNW3xotpK4qhis9G9L9O3spFbn+IGLD7mD2N3LWcOqe2YVR6RCW2hl7sSY+tEYCvKj+NvfcnsrzogWwCgA/35T8J5efSW49MudFTU/FRTJ21rKTqpSqRTLuleuLYl91U7w0jr92eVGxdr5d3c5Hbf9nRdF2Dd5/Ad5OKqkQSYtmLvXmIZRUriTwSoOQLhNmGzyrfQTdZem959QPZBAAf5ZzT/pDbB9apeKpURH+YliGKvTnyWpbdYuinVE8VI6I4mXoqYit6Xi1v5SK3P4E+dfdRvKLqvVjRd+/3RBJ5VaoI31m+LtzKPfg08l1zk6W/KR/pQDYBwF/25T/l5GfORW4/oA/Ju9Hbpv7YKkfFKen6KT05itq93xm7b5S3cpHbf82zU3SN3LEMVVxj3b2c0PSeSHollkexnQHfVL4o7MkO+ATynXKTpQ+UD7wnOwDg7/jyn2nyE+Yitx8zjcoVsdUbpspIytSwJtXQ816JY0/W5aX1QHXGMjx7VledkeStXERPeGTcfdFI/Pb5OYbwKe7USy9WflSp2E6F7yhfEa52K/DP5bvjJkv/SD6JA9kEAO/ny392yU+Si9x+WE3FkUTel1PE1trT60PPh1pG825nbUX0SjTcMfXUiVWfGkpvqMhbuYjOaegdEfXJi+q9eHTifeOsR6J3Rr577v0L1onw3eRrwVVWN1m6yir8I/mOuMnSJ5BP6EA2AcCbfflPKvm5cZHbD+jz7RTVMLVFPazFtSGOvW0q9uW2f9Pfk21zFg13djO7VfVI4go98lYuRnPNumvUbqh8txh6z7RVjk6ZxBUeiWjup2wXyGWvPxtxInwT+UJwldUmN66yCh8u3wU3Wfpk8skdyCYAeK0v/7kkPyUucvsBMdlWMi23lp15OOqhduNYsW1eVB5JHSOmSt+aYmzdEQ3V1k+JPJb9GCqPnoq8lYvROc26fVmVyxUf08+NE/vxfjIZ9d1Yt6pydNadq1WMnt4WSzixfBW4yuoit6+yCh8o3/k2WfrE8okeyCYAeKEv/ykkPxMucvsB04hbxTr2ZVXCbqWO4SgPo1Kn1G6v9Pquaq7jpLYiet6Xa5K3clHDbY24lZSqT8eeDPfzXgmjshaHKvbk2YjOUMtIqud+9M7t7DQt4RzyJeAqqweyaZMl+Cj5nrfJ0heRT/pANgHAY778Z478BLjI7cfEcFuR1Vu9vtsWxdqqZDIVo21qrnyq74qe3bajrarHVjX0+oi8lYvRWSPuFHGdYbeS2TWfGkJtxfJIb5hO6ctxjKh8SqbOkVT+bNzpXK8TFfii8oP/KqvPye5NluBD5LvdF3/Hy7fhQDYBwLEv/9kiP+ktcvudxPQbSR27aog8kuEoH2I5jhGVb5s7jrb6uVNPLWurN0Rx3api3srF6Olz7G7EpUJVpvqu6tw9a62U6F+3qhJJX/bmWkZSsVYq7myN2L0UfEX5kX+V1cfkOZsswT2/fz795z9PP3/9/DH+e/H04+fv3Bu7v348ZX3sjLY/W3/k9iZLX1y+MQeyCQAWX/6TRH6uW+T2m/UZOJKyW4noea9sXRd9KyKKdezJED29EtbKrkfaoiceJSJv5SL6h2maHdGLuz1RnFQ9kurs/VWc8iGWU2VKhurpx1W0TZ1rHNXvxOXq8NXkh/1VVl8iz9xkCQ5t0/7kKeb9va3//Pi1nVayvMnSieQbdiCbAODqy39uyE9xi9x+WMy6R9bdO5VIxrEntSy9HpEbV1FZ66tnO+80VHEkU0PeykVub/oo2493rA3T6T1Zi2tnz3eLoTf0+rAuo3J0DCPfjdjabdjOg68hP+CvsvoqeYlNlmBfjvT5bftcbSN95fH9/N+/flyWN+P+VkhZOql8Iw9kEwDf3pf/lJCf2Ra5/bB11h16ZcpjedQwVE9Xldi9E9H2uBedEs3rKVMlb+Uit/fEQFtjbR9xn511oznaeh7LnvStYS1WJY5VD7ttXZ0SSUXffUXE6fAl5Ef7VVbfIC+0yRLsiJk+v5v/3//GSL9N9C0NU+GyuMrSN5Bv8IFsAuC7+vKfCfIT2iJ2a6yNiGK4vyxRj9MrYmuIfCoOVa9jT4aRR/R8jWi+79m23YZHLp63cpHbB2qs7cnRrFtbkexGb+udsQxVmY6RHHmkIbNNLKsYp+/G1BBL+CryQ/0qq2+Wl9tkCWbPTfsj3/ve/pambfs7yrd/T3YA8M18+U8A+XlsEbvPzszRcNRT9UjqeNQ/rFu9UleI47NRzaHy2g09f0d5Kxe5/SrrMBxJLZ+N7dR9tXuns9d3e+LciCzt6Q3Vf1SpOnxy+UF+ldX3k9fdZAluHE/71x/lv7E1Zr7Zzvru8l4cyCYAvoEv/6Kfn7v+858x8dZxyO2raTweHp+Q49zo72dNeV92Ve/JIzGdEkmpnm6qrA2PqNE07uQqdl9hGnprGC5R6bFbj+LkqN71nvv9tfvIZcNu5+Onw0tsY8/bfm/5Kk+4yup7y6tvsgR/3Jn2L+/a9S5/edfevs2fq010UfK+HMgmAM7ry7/Wj09XY6aNz1tdbi92B+BHpuLqecUIPU6JsyJ5RcR1ShWnJPLJbvG+mFHzVi6i56WO5t5eH3lE5ZH0Y9Wr+Jf81YvD2xx+k3N/q4alY9l4ldW/Ix9jkyV4lXw32mSJPXmPDmQTAKfztV/ixxybn6luZ/6Yb+vYl7vJUG277mzdMc6KiTEG1FpOVxvLHr0YSVS63jYdw8grsvSYeKqR5N1cROe7iMcKlfdiGJW1GI7qcGo50r/u95ZPtv0/svqX5YNtsgQvlO9AmyzxnLxfe7IDgBP5qi/ufZqtiE9XkfeeOiWSodf/hrj4GERHEpNqRF/2zt1jxVhOpp7K16RiVJ41Pbe4n6vY/avqOZSpUsu1E76BmOmPf5NZG+6Xwo3LXpPVD5EPuckSvES+92yyxMPyxt3KPQDO4ku+ssfsWsfx+SkG2sjD1pg9IRpycRWVtf6s3atNxiA6esaxIs6qpPLRPB0rLhda1Fbv6ZXdiLYj8Qx7krdysbX/M/H06kl2awVO6rlpf+QPfG9/2/kjqx8oH3iTJXhMvt9sssRr5X10JwFO50u+stfsGsn4/FRJiGVFdG6n7rizVR7pGerhhjF5jryOkUTEMtpW1Znrlzz5OPEosulYPbE45t1cbL2z3bdot/igowtWZGnTK5GsPXAix9P+9Uf5b1TjVdavsvov5DPYZAmek+8xmywBAIuvOu3HcY3xiT+Ove1yTkte55HTR09vi2WMnRVRjMi+5eLRGUlUpoZaxgUjHyIfxzVq97566GH7OmpH7A71JCvZys94sG3y+MUjIo8inM6daf/y/fz195Z3uXOV1X8nn8cmS4+5fbNv78q4CfX/JWj/w4Lf7f9iMN8Xvoj4AwxZAgD2/LvPlJf/RdTlU3X7+dLlW1K7P3t6PNPmWZveVseXisuueZh2K6n6mDZHUvNn5bVVnZPYzUW7+CPqshG9MvJ6Akfq6Y3IW7moK0Rb5CWKvb6b9+Lj7p9+dM1ef93jwmnkh/FVVv+1fDabLD3idtyP1TbsR9ptTdnx4+Jp+YEHvoLtTzNlCQA48G8+Wfax/hXT/lAT7Ijo7fmQfS8RV6h8t3JHjJF14la7FCPWPHpiuZsMPQ+jMnWO4/Sgw8irWEmcG7F1HYqevJWL6qnOqIRpOTzb0N3fvWOcuHtuL7764ry3+ZuyfIztI/iPrH4O+Zw2WXpeG/D7O1UvX391wWUj676r/1Vd/viusgQAHPsnny/HVP/04+evn3++NAsx7T80APRRdsTlQrei7UXqapFXMZJJbx4zZOSR1DG26jhE24jIRz1iLKtniIZd1dx7YhkRy3GsSsQoVmwn3TzirryVi/UKcdn1glF5vP5G/YIjn5aZbd79oXmhNpjd5Ad2fhSIl7ncviarn0w+uU2WnhOfNsZcn39bvL2LLH9zfHF9b7tujZn/UuDLyD+4TZYAgLv+5afM5Wv826/QHvv2S/SOaTaSktsP6CNxRe5dB++p2I36GB2joU+YfZ6c6pFHUvm2+ceoxCOuW0MU4xGjEmo5koie94i2+/JWLnL74Ll11VAPeueUZ6/2iGcvMj2NkbzL4/JCh9N+DW/b6qK/LpjPXidv31VWP6V8ipss3ZfvMcPlP/mOE+9T/d3oxuXf9N/b5/O5/IFeZQkAeM6//Kz5zLR/8fzX9tkIvFl+UH2E5aP/apn2R2H3R4F41OXGNVn9xPKJbrJ0V7wzXfx5v/lTu7q871x+RV/+o/1LybT/VWx/gilLAMADPtW0/0d+5+WBL8YuXcC7yo+uF1p+2/k2uT/9/FU/PP3nV6P3j/7K57/v6y8Od14uOLLdxT+y+hXkM95k6Y7raH/z7nH51x/9/WnbbO9i/vH+F5J/ZpssAQAP+KTTfn1R9uwX95cm4L3lB9jj4uP55redz9P7Jj6m+0d/5ab997Tdwj+y+nXk895k6cijny74krZ3gZQlAOAxn2na//3zx/WbLfk7lH1vH/6R/AB7XHzM3nzDNIawa+n6Ub19yPeP/ptXgjxn+ci/aeI5l5vVZPWryWe/ydIew/6JbX/4KUsAwMP+yafP+Tt4w+XrtLX8wFdv2Qm8q/wAe4nlt53Pk3ub2E37f8vlNjVZ/bLyzdhkaWbYP63tjz1lCQB4ic807Y+NPi78fOgfVWY78K7yA+zF+m87z8n9+r39+LiPQd60/1dc7lGT1S8u35hNlvgG8o98kyUA4IW+/CfR/FoAeFf5Afawvd92vvP3etc5/plpP2ylnYuY+Xfl3bnK6inkm7TJEqeWf9ibLPHRtlfmy/8QJX/d5eW3rP75nkz+BNfm5ldiPj3V92q2V++nn/n7W71wA/wLpn1glh9dL9Km8tvv5o8vEdvXh/lV4OG0f1leu7e/GDDtPy/vy1VWzyXftk2WOKn8Y95kiX8gXpnviFfinZfo/S0v3AD/wmmn/dz+y/7n//zfzPbUbiR17NErl9ZmrXTrub2/indMDevpeSsX2fRpTM98SkK8RWtSsVamuFyFl8lpf/mpfN5TfFSWrJ5RvoWbLHE6+Qe8yRL/Rk778Xe0uYi/sf39c1v1H+G6/k3uzW9jve75HADw73z5z6bbp5Uduf039Qkw8mkmjCnxKB5s2K50UXk19KitSvpWP3ZrZajmvJWL3bM+oXqeUzKO05sQlYrdCi9n2v/r4kOyZPW88u3cZIkTyT/aTZb4Z25+6ur21bytbrouWsGnAIB/z7R/qMa8PuxVvibDyGPZdx+J3hxJX/ZKHHuyRt8aeSwj2VWnxDKMZd7Kxf2rfS3jbTl6c+5s8Rhf6v1F8cFYsvoN5Bu8yRJnkX+umyzxz7xk2h9tuVPr2zYA/hHT/o4+5k35VLkvOl8Rde56kaisxx69MvJnVVudG8u8lYsHL/u4//e//nccIwHuyw/Fq6x+G/lmb7LEKeQfqj/WT+GxaT/zW9ln2gf490z7sz769rF2Wnb9lDhOsVvsUQ1T0o89RmXaquQotjMOTQ2xzFu5iJ53URN+zfkGfrgvPw6vsvrN5Bu/yRLwnh6c9sfqV/0m1lH888tYTfsAn4BpP9VUHLFbHBHF2J1UQxfFO3HU00+PpB+nmDrXGPVXyFu5qAu++sqhj/prTPXtDPju8oPwKqvfUt6CTZYAAGhM+xc1EkfS8550d7aGvnsU0TnUsrZ6RE+oyrRbyyrWsSqPmDrzVi76ZSt5nT7PPxhxVpw+OapPHml78FLwYfLD7yqr31vei02WAAC4Mu2nml3jWNGXl77N/eUkdtfI7abq1dMrW8vFmkdbxVoZsbX/sVZC1OOYt3IRF4yo5jvG5LwOz1F8XdTpdalIhp5P6sRYPuJFzfD35MfeVVYx8AMAHDPtX6zj625EcxfF9TgZxYhcX03FyqNeMRVjWapYW1Hp9Wm5df1Jwrqbt3IxtiqiM5JVDdgVUR968aUxnd6X69aL1BVi+bjXPRw8Ij/wrrLKVd6XTZYAADDth5pd18iOq16Zdqu/ktDrvdIj6qXXa7cqXRSjPuVVmZJxnJIpqp63ctHPquZIJjED9+jF3YZXxHSdWo5k0ntiGclq6nyLRx4OduWH3FVWWeQN2mQJAODbM+1fTINrRVRK35qiGiIZen2oZRXX3YqpUsutN02VWB71VD0qvb4b0Zy3clENQ+S90tXMHLFWduOo7UWnj2NPhtqqiHrpDX152duzbu0237kC3JEfb1dZ5UDepk2W+Mdufqk7APDxTPt/1Mg6kmmInSq1nCpTfhTbeReR9/puvlYqv9/26hgXGfJWLqaHiOYjY9aNcbeG3qhU1FYvvlfUZe88bqh8KvbOaSuzB1Tzep3woqvxHeQH21VWuStv1iZL/EumfQD4x8487T87iK7ujK+xdT8e76x4af/box7x/kOP3byVi6lzxGgO03IMsXeiGiLpxw+L8XBdFetYPZHX8kjvryTynmw7h55t4MTyw+wqqzwm79omS/wzpn0A+MdOOO1PI2gfPlf3d0Nd8DPE0fN5xfO8c0ps5Q1d9J66yJqMiPn2kRhnhcinYzVE/mDc748Lhl6ckshjWcWqVD70fBJb04lT/53l2sxZ5cfYVVZ5WN64q6zyb5j2AeAfO9W0X0Nmz7PvVt866inR/PHx0od+96cad3U1tuKxLnfn4EFjQL0fcXoktdzVmyum5UtjvWBEr+82jIieoZa1VRENQy2nepgqtazmSCpil1PKD7CrrPJCefuusso/0Kf93z+fYvF7p/708+eP3M7dHz9//XzaSv95+vHz9+9fsX9Z5V8etItEWuoi+RAA8H2datoP09gZkd3XGbVX7qsrfHzUoz/7NF76PB/szxu6mNriav3ZTgPqbkRbNY8krMXKp+Tt0S81XXYsoxJJ6A2xNSV9eTnhqpZTQ2/reYjmiF6JnJPJj65NlnitvI9XWeWj/Rm5I3v6OUb9m3r9LUD603tHnNgucnvG9ij9IQDg+zrPtB+j5m5k6zKU9kosu978YLy0/yOjntvlbdtM9Yqq5J1dbGdf1Ck9ol5j6lHEFVa1+2xbZtc8+iOm5f2o5n6poyuMeuiVyiuiZ1L1NQnriaOyRu5xIvmhtckSb5N38yqrfKgcuX9s35e/jvpDH8Wv3/Ofd8f2pZKLp231++e2iist8/zvqBzsAsC3dJ5pv6uxc6hk6HkX9bVzHD9/PP48t7fsYqofRd7NRTXEpaYLTqPpFKO5jlWZVHHajWUv7jZE8saI65So1PHB2E6dTVuR92Nf9uiVrYvzyA8tQ+m7ynt6lVU+To7f8RP5d6f9tnk7qN9u99XtPH8z6g+3uwDwXZ1t2u9jZ8Vom45TfdJ3e6yVTxuPPPmojOO6FZH3dDG2+rlDVSLW6XSK7aQ/w+3qkZ4u2voxjHw3HtnaLvDnmj1ia5jqPbLjwFFDnVvHNbZG4Hn5mrXJEh+nRu5Iavjuo/i7TPuRH14EAL6tE35vPwbOsVVJWPNemfRzI9+N3d21eP8ib4+j60e9dkdS+SORN3RRDUcXnKbTHqM/jpFUZdoaej65s9XVNSuiHmrZGyKqGA3DuqxkN6onji/VL7KbAw/Kly3T/j/QRu5Ib4bzyN9h2o/qH5f9m4sAwLd1wml/GAPn2IpjJJWXXll3Q514lKyxbo1KmOpH0ZvvnzXt3mmOrX58JPJuLuo6q6iPY42mMZ32ZUQvXs5sI+7fMF05HuuRyBOWU6rYtyrfNl+vLliXmpYAn97O3L6tTPsA8EHOOe0PuX0V42suDlTD1Bx5FKteyzsRbQ82V2yXv6hlba0RnUPkD25F7BZ75K1c1ImXq99VM+oUub01ZHabH3mk5xHxNO5E9FRzX4Zoi+jL2A1r5UX6uW+5DgAA8A19l2n/RWqOnQbavoxxt3f2ZZgq1VNxVAy9UvkU0Tn0Ze1WcapEVP2oIW/lInYvj/SAmHh3I3aj7Z+o5zBF7Ubej2VaDtHfY6rHcug5AADA32Da3/fsNBsTb8VUub/s0bdGHstISjVMkdu3V+hbUx5JmHp2I2/lInbj9GfFZFsTb0VtdWul1FnvpS5Yx4q+G9ZlZptYRk9FVaphqlQRAADg3Zn23ySG3ph+K3r90nR3ol4jTummhh7ZsTziUD1TMbO7l43IW7nI8x+2Tra7lcyaKu7uvl08jaPIpqujrVpGUj3rsqLXL2cCAAC8N9P+m4yROI5r3N+9H9NZY3nnOutWVNZjj1452s1buRi7LzWNtTXoPjju9rY1371IFXd3y9jtF+nHUJUq9t0Qu1NDFdflbmynAgAAvA/T/pv0CXlEL/b82ajmfqzYNvcvFfVoCL3Yt0Zey8hj2YuVROStXETb68RY20fcFw261dzPHceIbWd2VB9q607PELu9ZzpxOt6PtacqIwEAAHgXpv2HTJNw5CEqU+TeVVR6Q0TfDZFXwxTT1nbGxZTHMpKK2q2kb9WxR97KxXaB1+sjbh17cqT6I3oey7BbnKz9uXihOndKemyNO/WK2o1OAACAtzPtv8yYgetYajyuyI1bU0+Paljb1soU26nPXHxahr6svBfzVi5i9xE10K5RDXW8o7dN54aR9+WwW8lsE8s6Trur6lmb+zJ2ozIlz8Z2gYtpCQAA8FKm/YsYcfug203FtafOja21Yeg9PWKrjn35YEzNj5zbe/ojVn0kQ97KRew+oubYo6i2KRmmvEdVajeS0Bv6Vi2rGJW+jGRXb65kV3VGz5Tcj+0CN6dEBQAA4EW+77TfR9yX6mfFeDxF7t3u1rK2etIb3jdefdm8lYvLk35YDK6PRDTHWWEqRlvEVK+k8qG3TVtDr1fE1pHesNtcxfudo7IbuX09pVe6aq4E+O9/f/24vD79+JVLAIDv7rtP+6Hnu2oArnyqr9EbIg9rZYjiB0Q81u4jrsW8lYvLM35ODKJ3onqif6itqT7EsuqRVEyVtXMkle9G76xk0htqGfkda1vkVe/R69U5qd3II+Fz26bQHz9//Xx62j6Cnn78/P37149YjNWf8fRSzfLYePr563fWf47q08+fcY55dp9pHwDgxnec9sccW8cyLXdVT13h8ZhOjGVYd98x7lywtnZ7RjFv5WJsPShG0ynWrbWzKj2JvI6RTLuVh2qoranSo06JZFi3pnyKXq+2Ok52t3Y7J6MnIvIo8onFFHpHDKjbSD/b2zLP7jPtAwDc+EbTfkyw00C7W+yq0ncjr1grFbW12xPFcQx96y9Ff6BnHzFv5SIu8oiaS+/HbmcVI7lc7ppMx93kdTFOL2uxV/oxkr5V+bury9ZjxfLIX3oavERO+z+279Tn4mlb/f65rZ5+bnl+4z6+n/+7zroscu/SxxHTPgDAje817feISmwNPQ/VFqaGWEbP/aj+qVjHqfgucXnIq1j2YrXV1m7krVyMrbpOJEfGqPmiWM9aKxFRjN0yNUyVZyP6+4lTHklF310jdl/qkdNj99m27vFO/oKbKTQG922+v10ts2or3J7Evn4H+9+dLPWbfxOx7T7/7yzaRSItdZF8CACAz+LM035NrRFrJWK7TOrFdXfolWi4H7ttcXroxTq+V2yPsP8EpqRHFfNWLnrbOD6ij6aRPx51ViRD1ftuRa9MW3fiTmdsrQ2PXHz0/A2vvvJffVYcuBkFn5n2R1vu1Pq2jUN/7nNk1/vV73/+LUD603tHnNgucntG+8OLTgCAz+L8034lU/T65ULHy6j0ehxfGnH6EPlUr2XFbvGlMV1ke6ibh67jGnkrF2v/5aLHYsKsObMvp4jd7aQ/bVPel7sx9Tzb3+N+83bhF18tzvpLjq7fn0Msj4o94e+4GQUPp/1pEA3ZZ9p/RN7nH9v35dvN6vc/b3L7NxE5uz/z7yxu/xAv8q9jDnYBAD6B00770zh6J/JC17k3ksjX4yQ678fUtp61XemiV/pW1as4Ve7HdJFpeSfyVi7iCqGac30g5skYNSvWyiuiX6TykezW78du24Pn3onLU/nX6mnUU9pNLh28v5tR8HjavwyQ+RPmF08xcsaGaf8BOX7HT+S3m9Xv/3onH/zTuZ3nb0b94XYXAOBzOOe0X/NnHSu2k7JSeVUq33ZutqLSRf1+9LbK13Mvl3vggnd6+tZ2sZvOWE7FZyPv5mJsrde/L0bK94p+wci3B7lXrOTxiFP6iWsl4tmLj4aPNz3u9Ewij+IU0QBfTY3ckdTw3Ufxd5n2Iz+8CADAJ3Hmab/H6OxJHcPuVm8Ydpfj+Iqo00MVez4V+7GiL+9sHVXWmHrybi6OHmskd0wj5RqP9OxGnbg9zk7e405xdytiahhJ5c9GNP8T06PHsp7YGtUDX1AbuSO9Gc4jf4dpP6p/XPZvLgIA8El8l2k/YvRXEno9KvdF/xtjulTkvViV6bjGVB/LXpl2Xxp5NxdTW494AkemqbKSvvVhsfugU3EsS6+/KPL8z6E/pXqGa0QDfCk7c/u2Mu0DAN/UOaf9ISbPaRCtJFQxlqvaqs6Ko/puVHPlpffs5lWJ4rq1RjXfj2fb8lYuek9cZOj5ZJokK9bdO80PxnrBqNQxkrUSSek9azzYE8cP9uyD9qe3G9EGAAB8aaed9nO7uTOOHukzbeU9om2Y6j2m3VhuJ2VSWxGxNURexUiO4qhhus5uHO3mrVw8e7XVNE+OyI3rdNq3XhdxtSHyqb7bEMtuKo7lemIkfauWPWLrU1mfWD3bHrkHAAB8Zeef9mP+PJpCH1Sj7BrZ0Xoinyphqh9FdVZSx4g175VYViWSWj4Yoz9v5eLoUqMeW5GEPkNW3uOo/oo4eriRP+jZ/titY4+qXPo+XH8au6ph6un1aQsAAPi6zj/th2kE7dPpsC778Siqp/Td94q89K1pdzephkp6vSLqXRXzVi766bsRpw81QNYwuUbsPtj8bEynj2VU6rjrzla3XnA3ouftXnepO2f1Z/i6iwMAAF/Fd5n27+jT6RDL6dh7erFirRxFdT54ymiLzjWpfFW7deyVno/jkbyVi7pCXWSNuMJQE+ZRZN/tLFqqeD+iczql8ki2zbmyu1vLZ1V/RW68WV3q1dc8OvF9nycAAPA5mfZ31LBag2ska0TbZOp5S+QVr9b6UT4cNVexbw1Rr+JI8lYuqnM34vQuxss1+lZ0rqotjs9GtV1OPs5X09adzuH+pd7RSx+o+o/OioajXQAA4DRM+/um2bWWU8Ru6MvIq+3ZuNO8Xe+illXsu6vevNs5ihVZuopi3spFnbVGnBsXKTVhThFb0fOIOqUn0/LSd5BPlV7sx9DzMHVWw9r5Rv3iL/LuzwQAAPi6TPv71pF12C2u+tx7FPd3e2yXvKg8kr7VTW2rUe89kUcyRd7KxdTWIy67ikE05tiK2Boqr3rf7aJhivtbcayGnq8Ru0PPSxUjiVMiot7tFh8xnRjLV18NAAD4nkz799wZXye9M/KYft8ecc1n9c4pr+tM+bb/p1j1iryVi2pYT39Wn1pHHlF5T+446unFyKOzYq1M0U8cx0iqshtTW+SRvN07XgoAAPhWTPsv9uBYG201CfeY6lv7YWeYlkMtp3rouxE9P6pMkbdyEbvb5d/HNDNHVD2OPVlV59ujXzCSB6P66/g6/WoAAACvY9p/pd1xdyrGVPxs9M7Ip8qkb/Vk27zoW7sx7dZySvJWLtbTX6GPx1NUfXd3RDRMol4NfXknr+X9Ux6J6p8u+DpxqbdcAQAA+M5M+6/XB93dobfm4VdHXmh5rCmiWMdIekRxmCqVT5WIvJWL3hNnhVeMpnVKDbcVu8WIOGWY8ljWsSp9+Uis/Q9eYXuoP08glt39rd06AADAK5j2X2maeCuJvCq7UW1TcaqMiOLW/icp1XanJ0S9miOm+tqQt3IxtY0T+5h6Z6BdxYhbEZWqrw09qjlMW1WZtu5HnVjHSB6Mao4Th553U88UuQEAAPBapv0X61Nu5c/G1Lxd6WWn3+mvrWgr0+4avaeLYt7KRTWsJ75uUu2DbsWdrYhoGKZ6xLQ1tU3LiCpGMo5VeTDqxDpWvevF6ukRWwAAAK9m2n+xGnRfFP3EyLeLzVfrlXX3fmzXu5jyNXLv2jnVIxkzZ97KRfXXKV3Nq89OrdVWnZVHcj/6KXfiTk9tHfU823Anximrvtt7qh6RVQAAgNcy7T+qj7ivjn6d6Zpvf4i6wkjKutuXW8vFtBUDZ97Kxdit5rePpv0KI38w8oTrKZVU1G5tRWWoZRV7UltTcTfuN8Tu0PPS2yrvEW0AAACvYNp/VIzBcQw18dbWnYiG7bxnOkfs9kTx2dMvD7CYtiKvY9+t5Zg281YuqidOKTWj1qT67MjaG+L0qOzWp7izVRE9a+flurdbUQlRqd06rsth5Pcj+zZVqeNRbO0AAACvZNp/Xk22NeXuxrMNL40HL9if4R3VWccQeYyXlccyb+VitPUrlNfNqHFWPOgUVd8ad3p2i0dRzZFcrrjpeai2nkdSy6is9WlZlSmfKr1eOQAAwKuZ9p8Xk22MuPfjwbb7cXSRqven1JtHvqvv9kmyktiNtt6Zt3IxtkZbnb5rfZQ7Rs8UVdzdXWNti0qvj3xaVjFUseo96btTPFu/XKKZtiLpsXUBAAC8nmn/GTUDTzHtxnKoyusir3J7nSxdi5X05ba/o2/tjpSRRGU013Ic81YuLqcdi3NfJB69ohfXZIrd+uX8rR7JEPlupYqR98rQK0fJs3G50O1Z0zGSygEAAN7ItH9PH6d3o9oiGSKv3Uim4m69lpOpHnlV1lOmylhWJebJ3YiG3jzkrVxU/x2P9JRojmfSY7cYsXvWWHa9OCVTc3TWVu1WMkQ9Kv0YyVFEwzDVR0QxdgEAAN6Xaf8hMQbHJLwmu2K3oor9OMXWck/1PNtc16zOacKMZeS1nC6bt3KR2++qnkw9pSGKR9Ebon+YKn0r9N0hlhVViWRrySTqEVEfaiuOU2wtWV8borK1AAAAvDPT/vNiBq7huS+3/Yv7xViGaTlMp1Rk6WqtDFNxOrfyPl5OeSTjGHqet3KR2+9qfTJRqeIaVY+kjqXv7iZ92YsjD5XvNqy7cYzYdi6qchTZBwAA8H5M+w+JmbkP0qUqtRvJFNHTTcU7nZPec6e/b9VUOY6jHsuqbC078lYucvsvqCczJeNY0Zdby72z4jgtp63Iu95T+rLykVTzWgyxPIpsAgAAeFem/UeNIXkdrasSu1NUw3pcjXpEru921nE1XWR1f9TsxbyVi9z+a+I51DOMpMfW9actll119oh6b6hK1XdFc/UcNff61BOn70Z2AAAAvCvT/pvEaF0DdiVTPlRDHbu1suvo9Dt6c58wH5kz81Yucvtvmp5qj2goUen1quwmtZysxbWzL3f7ezKOUyWSHlEEAAB4d6b91+uD9MhrFJ+ScJQfmU7/J/JWLnL775tm4xG58ZzprIiqR0/Xi1PDdMp6+lFlPYaR9yUAAMDfYNp/kxjIYzKfonaPVNvq/okfJm/lIrf/vhqMXzoex4lr5PbeBe9U1q1h3R1J5Lv9AAAAH8m0/yYxsR9F9UTy5eStXOT2h3jd5ByDd48oxm7Xi1NDnRh5HSfrWZkd9AMAAHwA0/5bxTDfJ/x+DD0vu8XhqP7x8lYucvuzqsl8itratW5NlTvnAgAAfDam/fcxRvQXjfRfQt7KRW5/YmMyj6g86nfs9jxyIgAAwCdk2udQ3spFbgMAAPBZmfY5lLdykdsAAAB8VqZ9DuWtXOQ2AAAAn5Vpn0N5Kxe5DQAAwGdl2udQ3spFbgMAAPBZmfY5lLdykdsAAAB8VqZ9DuWtXOQ2AAAAn5Vpn0N5Kxe5DQAAwGdl2udQ3spFbgMAAPBZmfY5lLdykdsAAAB8VqZ9DuWtXOQ2AAAAn5Vpn0N5Kxe5DQAAwGdl2udQ3spFbgMAAPBZmfY5lLdykdsAAAB8VqZ9DuWtXOT2P5JPgveQ9xQAADid0077wCPyAwkAADiXL/y1fg4rwBvkhxMAAHAuX/Vr/ZxUgLfJjygAAOBcTPvwreVHFAAAcC5f8mv9HFOAN8sPKgAA4Fx8bx++r/xwAgAATse0D99RfiABAAAn9YW/6M+pBV4i33sAAABOzfADAAAAZ2PaBwAAgLMx7QMAAMDZmPYBAADgbEz7AAAAcDamfQAAADgb0z4AAACcjWkfAAAAzsa0DwAAAGdj2gcAAICzMe0DAADA2Zj2AQAA4GxM+/At/P759J/hx6/L4tePkT79/L3tAAAAJ2Tah29iG/Ev834M/jH3AwAA52Tah28j5/0L39gHAIBzM+3D95E/zm/YBwCA0zPtw3cRs/7TU/sH/AAAwEmZ9uGbiJ/jH1N+JL69DwAAZ2ba59jvXz/i+8CX2fDHrxwO66fBr3yX+CvoI/7N7+cHAADOyLTPgWWov34z2LQPAADw2Zn2OTCG+uv383/n73Lv3xg24gMAAHxepn0ecPOT37ff2//zE/4AAAB8FqZ9nnf7W92Wn+T3fX4AAIBPxrTPM+r7+uu38H//ij2/3R0AAOBzMe1zz51Rf3PzI/4AAAB8EqZ9juQkP3/j/vfPH9fh//a39wEAAPBZmPY5kJP8jctY75/tAwAAfHqmfQ4cTfvbt/SvA//Tj59+JT8AAMCnY9oHAACAszHtAwAAwNmY9gEAAOBsTPsAAABwNqZ9AAAAOBvTPgAAAJyNaR8AAADOxrQPAAAAZ2PaBwAAgLMx7QMAAMDZmPYBAADgbEz7AAAAcDamfQAAADgb0z4AAACcjWkfAAAAzsa0DwAAAGdj2gcAAICzMe0DAADA2Zj2AQAA4GxM+wAAAHA2pn0AAAA4G9M+AAAAnI1pHwAAAM7GtA8AAABnY9oHAACAszHtAwAAwNmY9gEAAOBsTPsAAABwNqZ9AAAAOBvTPgAAAJyNaR8AAADOxrQPAAAAZ2PaBwAAgLMx7QMAAMDZmPYBAADgbEz7AAAAcDamfQAAADgb0z4AAACcjWkfAAAAzsa0DwAAAGdj2gcAAICzMe0DAADA2Zj2AQAA4GxM+wAAAHA2pn0AAAA4G9M+AAAAnI1pHwAAAM7GtA8AAABnY9oHAACAszHtAwAAwNmY9gEAAOBsTPsAAABwNqZ9AAAAOBvTPgAAAJyNaR8AAADOxrQPAAAAZ2PaBwAAgLMx7QMAAMDZmPYBAADgbEz7AAAAcDamfQAAADgb0z4AAACcjWkfAAAAzsa0DwAAAGdj2gcAAICzMe0DAADA2Zj2AQAA4GxM+wAAAHA2pn0AAAA4G9M+AAAAnI1pHwAAAM7GtA8AAABnY9oHAACAszHtAwAAwNmY9gEAAOBsTPsAAABwNqZ9AAAAOBvTPgAAAJyNaR8AAADOxrQPAAAAZ2PaBwAAgLMx7QMAAMDZmPYBAADgbEz7AAAAcDamfQAAADgb0z4AAACcjWkfAAAAzsa0DwAAAGdj2gcAAICzMe0DAADA2Zj2AQAA4GxM+wAAAHA2pn0AAAA4G9M+AAAAnI1pHwAAAM7GtA8AAABnY9oHAACAszHtAwAAwNmY9gEAAOBsTPsAAABwNqZ9AAAAOBvTPgAAAJyNaR8AAADOxrQPAAAAZ2PaBwAAgLMx7QMAAMDZmPYBAADgbEz7AAAAcDamfQAAADgb0z4AAACcjWkfAAAAzsa0DwAAAGdj2gcAAICzMe0DAADA2Zj2AQAA4GxM+wAAAHA2pn0AAAA4G9M+AAAAnI1pHwAAAM7GtA8AAABnY9oHAACAszHtAwAAwNmY9gEAAOBsTPsAAABwNqZ9AAAAOBvTPgAAAJyNaR8AAADOxrQPAAAAZ2PaBwAAgLMx7QMAAMDZmPYBAADgbEz7AAAAcDamfQAAADgb0z4AAACcjWkfAAAAzsa0DwAAAGdj2gcAAICzMe0DAADA2Zj2AQAA4GxM+wAAAHA2pn0AAAA4G9M+AAAAnI1pHwAAAM7GtA8AAABnY9oHAACAszHtAwAAwNmY9gEAAOBsTPsAAABwNqZ9AAAAOBvTPgAAAJyNaR8AAADOxrQPAAAAZ2PaBwAAgLMx7QMAAMDZmPYBAADgbEz7AAAAcDamfQAAADgb0z4AAACcjWkfAAAAzsa0DwAAAGdj2gcAAICzMe0DAADA2Zj2AQAA4GxM+wAAAHA2pn0AAAA4G9M+AAAAnI1pHwAAAM7GtA8AAABnY9oHAACAszHtAwAAwNmY9gEAAOBsTPsAAABwNqZ9AAAAOBvTPgAAAJyNaR8AAADOxrQPAAAAZ2PaBwAAgLMx7QMAAMDZmPYBAADgbEz7AAAAcDamfQAAADgb0z4AAACcjWkfAAAAzsa0DwAAAGdj2gcAAICzMe0DAADA2Zj2AQAA4GxM+wAAAHA2pn0AAAA4G9M+AAAAnI1pHwAAAM7GtA8AAABnY9oHAACAszHtAwAAwNmY9gEAAOBsTPsAAABwNqZ9AAAAOBvTPgAAAJyNaR8AAADOxrQPAAAAZ2PaBwAAgLMx7QMAAMDZmPYBAADgbEz7AAAAcDamfQAAADgb0z4AAACcjWkfAAAAzsa0DwAAAOfy3//+f+R1ql5TnpC/AAAAAElFTkSuQmCC)"
      ],
      "metadata": {
        "id": "0LdrdY-CpsG4"
      }
    },
    {
      "cell_type": "code",
      "source": [
        "import pandas as pd\n",
        "import numpy as np\n",
        "from sklearn.model_selection import train_test_split\n",
        "\n",
        "\n",
        "data=pd.read_csv(\"data.csv\")\n",
        "data.drop([\"Unnamed: 32\",\"id\"],axis=1,inplace=True)\n",
        "data[\"diagnosis\"]=[1 if i==\"M\" else 0 for i in data[\"diagnosis\"]]\n",
        "x=data.drop([\"diagnosis\"],axis=1).values\n",
        "y=data[\"diagnosis\"].values\n",
        "#normalization\n",
        "X=(x-np.min(x))/(np.max(x)-np.min(x))\n",
        "\n",
        "\n",
        "\n",
        "X_train,X_test,y_train,y_test=train_test_split(X,y,test_size=0.20,random_state=48)"
      ],
      "metadata": {
        "id": "ipN5R5UVpuH6"
      },
      "execution_count": 46,
      "outputs": []
    },
    {
      "cell_type": "code",
      "source": [
        "from sklearn.tree import DecisionTreeClassifier\n",
        "model=DecisionTreeClassifier()\n",
        "model.fit(X_train,y_train)\n",
        "prediction=model.predict(X_test)"
      ],
      "metadata": {
        "id": "HvoSH_FwvFy6"
      },
      "execution_count": 47,
      "outputs": []
    },
    {
      "cell_type": "code",
      "source": [
        "print(f\"Decision tree accuary {model.score(X_test,y_test)}\")"
      ],
      "metadata": {
        "colab": {
          "base_uri": "https://localhost:8080/"
        },
        "id": "qvH3Rmj7vm5a",
        "outputId": "76c13673-bbcc-44f4-e20b-bb6304c3db76"
      },
      "execution_count": 48,
      "outputs": [
        {
          "output_type": "stream",
          "name": "stdout",
          "text": [
            "Decision tree accuary 0.9385964912280702\n"
          ]
        }
      ]
    },
    {
      "cell_type": "code",
      "source": [
        "prediction"
      ],
      "metadata": {
        "colab": {
          "base_uri": "https://localhost:8080/"
        },
        "id": "Otc0WUeXvwzR",
        "outputId": "cb3bdefc-4c7e-45e1-d743-3ce97a439cf7"
      },
      "execution_count": 49,
      "outputs": [
        {
          "output_type": "execute_result",
          "data": {
            "text/plain": [
              "array([0, 1, 1, 1, 0, 1, 0, 1, 1, 1, 0, 0, 1, 0, 1, 0, 0, 0, 0, 1, 0, 0,\n",
              "       1, 0, 0, 0, 0, 0, 0, 0, 0, 0, 0, 0, 1, 1, 0, 0, 0, 0, 0, 0, 1, 0,\n",
              "       0, 0, 0, 0, 0, 0, 1, 1, 1, 1, 1, 0, 0, 1, 1, 1, 1, 0, 1, 0, 0, 1,\n",
              "       0, 1, 0, 1, 0, 0, 1, 1, 0, 1, 0, 0, 0, 0, 1, 1, 0, 1, 0, 0, 1, 0,\n",
              "       1, 1, 0, 1, 1, 1, 0, 1, 1, 0, 1, 1, 0, 0, 0, 0, 1, 0, 1, 0, 0, 0,\n",
              "       0, 1, 0, 1])"
            ]
          },
          "metadata": {},
          "execution_count": 49
        }
      ]
    },
    {
      "cell_type": "code",
      "source": [
        "y_test"
      ],
      "metadata": {
        "colab": {
          "base_uri": "https://localhost:8080/"
        },
        "id": "oID1_tu8v69Q",
        "outputId": "301d8cb6-18f3-4581-e108-089b9ec24e31"
      },
      "execution_count": 50,
      "outputs": [
        {
          "output_type": "execute_result",
          "data": {
            "text/plain": [
              "array([0, 1, 1, 1, 0, 1, 0, 1, 1, 1, 0, 0, 1, 0, 0, 0, 0, 0, 0, 1, 0, 0,\n",
              "       1, 0, 0, 0, 0, 0, 0, 0, 0, 0, 0, 0, 0, 1, 0, 0, 0, 0, 0, 0, 1, 0,\n",
              "       0, 0, 0, 0, 0, 0, 1, 1, 1, 1, 1, 0, 0, 1, 1, 1, 1, 0, 1, 0, 0, 1,\n",
              "       0, 1, 0, 1, 1, 0, 1, 1, 0, 1, 0, 0, 0, 0, 1, 1, 0, 1, 0, 0, 1, 0,\n",
              "       1, 1, 0, 1, 1, 1, 0, 0, 1, 0, 1, 1, 0, 0, 0, 1, 1, 0, 1, 1, 0, 0,\n",
              "       0, 0, 0, 1])"
            ]
          },
          "metadata": {},
          "execution_count": 50
        }
      ]
    },
    {
      "cell_type": "code",
      "source": [],
      "metadata": {
        "id": "NkJbDrjcwEDx"
      },
      "execution_count": 50,
      "outputs": []
    }
  ]
}
