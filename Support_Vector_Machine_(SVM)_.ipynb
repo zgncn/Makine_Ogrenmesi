{
  "nbformat": 4,
  "nbformat_minor": 0,
  "metadata": {
    "colab": {
      "provenance": []
    },
    "kernelspec": {
      "name": "python3",
      "display_name": "Python 3"
    },
    "language_info": {
      "name": "python"
    }
  },
  "cells": [
    {
      "cell_type": "markdown",
      "source": [
        "# Support Vector Machine Classification"
      ],
      "metadata": {
        "id": "ELggcJUcLY5R"
      }
    },
    {
      "cell_type": "markdown",
      "source": [
        "![1_HVkxJcosppOa4_5wJ7Y4pA.webp](data:image/webp;base64,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)"
      ],
      "metadata": {
        "id": "SbLN3awQOiLI"
      }
    },
    {
      "cell_type": "code",
      "source": [
        "import pandas as pd\n",
        "import numpy as np\n",
        "from sklearn.model_selection import train_test_split"
      ],
      "metadata": {
        "id": "54I3NVG5LaGI"
      },
      "execution_count": 1,
      "outputs": []
    },
    {
      "cell_type": "code",
      "source": [
        "data=pd.read_csv(\"data.csv\")\n",
        "data.drop([\"Unnamed: 32\",\"id\"],axis=1,inplace=True)\n",
        "data[\"diagnosis\"]=[1 if i==\"M\" else 0 for i in data[\"diagnosis\"]]\n",
        "x=data.drop([\"diagnosis\"],axis=1).values\n",
        "y=data[\"diagnosis\"].values\n",
        "#normalization\n",
        "X=(x-np.min(x))/(np.max(x)-np.min(x))\n"
      ],
      "metadata": {
        "id": "Y-A2791VPIB-"
      },
      "execution_count": 2,
      "outputs": []
    },
    {
      "cell_type": "code",
      "source": [
        "X_train,X_test,y_train,y_test=train_test_split(X,y,test_size=0.3,random_state=48)\n",
        ""
      ],
      "metadata": {
        "id": "AG__io8QPPSb"
      },
      "execution_count": 9,
      "outputs": []
    },
    {
      "cell_type": "code",
      "source": [
        "from sklearn.svm import SVC\n",
        "model=SVC(random_state=1)\n",
        "model.fit(X_train,y_train)"
      ],
      "metadata": {
        "colab": {
          "base_uri": "https://localhost:8080/",
          "height": 75
        },
        "id": "9K6R98ImPaE4",
        "outputId": "c95af195-58ba-4f67-e4fe-8c70fe9404bb"
      },
      "execution_count": 10,
      "outputs": [
        {
          "output_type": "execute_result",
          "data": {
            "text/plain": [
              "SVC(random_state=1)"
            ],
            "text/html": [
              "<style>#sk-container-id-2 {color: black;background-color: white;}#sk-container-id-2 pre{padding: 0;}#sk-container-id-2 div.sk-toggleable {background-color: white;}#sk-container-id-2 label.sk-toggleable__label {cursor: pointer;display: block;width: 100%;margin-bottom: 0;padding: 0.3em;box-sizing: border-box;text-align: center;}#sk-container-id-2 label.sk-toggleable__label-arrow:before {content: \"▸\";float: left;margin-right: 0.25em;color: #696969;}#sk-container-id-2 label.sk-toggleable__label-arrow:hover:before {color: black;}#sk-container-id-2 div.sk-estimator:hover label.sk-toggleable__label-arrow:before {color: black;}#sk-container-id-2 div.sk-toggleable__content {max-height: 0;max-width: 0;overflow: hidden;text-align: left;background-color: #f0f8ff;}#sk-container-id-2 div.sk-toggleable__content pre {margin: 0.2em;color: black;border-radius: 0.25em;background-color: #f0f8ff;}#sk-container-id-2 input.sk-toggleable__control:checked~div.sk-toggleable__content {max-height: 200px;max-width: 100%;overflow: auto;}#sk-container-id-2 input.sk-toggleable__control:checked~label.sk-toggleable__label-arrow:before {content: \"▾\";}#sk-container-id-2 div.sk-estimator input.sk-toggleable__control:checked~label.sk-toggleable__label {background-color: #d4ebff;}#sk-container-id-2 div.sk-label input.sk-toggleable__control:checked~label.sk-toggleable__label {background-color: #d4ebff;}#sk-container-id-2 input.sk-hidden--visually {border: 0;clip: rect(1px 1px 1px 1px);clip: rect(1px, 1px, 1px, 1px);height: 1px;margin: -1px;overflow: hidden;padding: 0;position: absolute;width: 1px;}#sk-container-id-2 div.sk-estimator {font-family: monospace;background-color: #f0f8ff;border: 1px dotted black;border-radius: 0.25em;box-sizing: border-box;margin-bottom: 0.5em;}#sk-container-id-2 div.sk-estimator:hover {background-color: #d4ebff;}#sk-container-id-2 div.sk-parallel-item::after {content: \"\";width: 100%;border-bottom: 1px solid gray;flex-grow: 1;}#sk-container-id-2 div.sk-label:hover label.sk-toggleable__label {background-color: #d4ebff;}#sk-container-id-2 div.sk-serial::before {content: \"\";position: absolute;border-left: 1px solid gray;box-sizing: border-box;top: 0;bottom: 0;left: 50%;z-index: 0;}#sk-container-id-2 div.sk-serial {display: flex;flex-direction: column;align-items: center;background-color: white;padding-right: 0.2em;padding-left: 0.2em;position: relative;}#sk-container-id-2 div.sk-item {position: relative;z-index: 1;}#sk-container-id-2 div.sk-parallel {display: flex;align-items: stretch;justify-content: center;background-color: white;position: relative;}#sk-container-id-2 div.sk-item::before, #sk-container-id-2 div.sk-parallel-item::before {content: \"\";position: absolute;border-left: 1px solid gray;box-sizing: border-box;top: 0;bottom: 0;left: 50%;z-index: -1;}#sk-container-id-2 div.sk-parallel-item {display: flex;flex-direction: column;z-index: 1;position: relative;background-color: white;}#sk-container-id-2 div.sk-parallel-item:first-child::after {align-self: flex-end;width: 50%;}#sk-container-id-2 div.sk-parallel-item:last-child::after {align-self: flex-start;width: 50%;}#sk-container-id-2 div.sk-parallel-item:only-child::after {width: 0;}#sk-container-id-2 div.sk-dashed-wrapped {border: 1px dashed gray;margin: 0 0.4em 0.5em 0.4em;box-sizing: border-box;padding-bottom: 0.4em;background-color: white;}#sk-container-id-2 div.sk-label label {font-family: monospace;font-weight: bold;display: inline-block;line-height: 1.2em;}#sk-container-id-2 div.sk-label-container {text-align: center;}#sk-container-id-2 div.sk-container {/* jupyter's `normalize.less` sets `[hidden] { display: none; }` but bootstrap.min.css set `[hidden] { display: none !important; }` so we also need the `!important` here to be able to override the default hidden behavior on the sphinx rendered scikit-learn.org. See: https://github.com/scikit-learn/scikit-learn/issues/21755 */display: inline-block !important;position: relative;}#sk-container-id-2 div.sk-text-repr-fallback {display: none;}</style><div id=\"sk-container-id-2\" class=\"sk-top-container\"><div class=\"sk-text-repr-fallback\"><pre>SVC(random_state=1)</pre><b>In a Jupyter environment, please rerun this cell to show the HTML representation or trust the notebook. <br />On GitHub, the HTML representation is unable to render, please try loading this page with nbviewer.org.</b></div><div class=\"sk-container\" hidden><div class=\"sk-item\"><div class=\"sk-estimator sk-toggleable\"><input class=\"sk-toggleable__control sk-hidden--visually\" id=\"sk-estimator-id-2\" type=\"checkbox\" checked><label for=\"sk-estimator-id-2\" class=\"sk-toggleable__label sk-toggleable__label-arrow\">SVC</label><div class=\"sk-toggleable__content\"><pre>SVC(random_state=1)</pre></div></div></div></div></div>"
            ]
          },
          "metadata": {},
          "execution_count": 10
        }
      ]
    },
    {
      "cell_type": "code",
      "source": [
        "print(f\"Skor: {model.score(X_test,y_test)}\")"
      ],
      "metadata": {
        "colab": {
          "base_uri": "https://localhost:8080/"
        },
        "id": "AL9idsMhPhpv",
        "outputId": "59e96147-95b0-4e81-b6bb-e8762111ad3d"
      },
      "execution_count": 11,
      "outputs": [
        {
          "output_type": "stream",
          "name": "stdout",
          "text": [
            "Skor: 0.9298245614035088\n"
          ]
        }
      ]
    },
    {
      "cell_type": "code",
      "source": [],
      "metadata": {
        "id": "4BYPH-WoQFgk"
      },
      "execution_count": null,
      "outputs": []
    }
  ]
}