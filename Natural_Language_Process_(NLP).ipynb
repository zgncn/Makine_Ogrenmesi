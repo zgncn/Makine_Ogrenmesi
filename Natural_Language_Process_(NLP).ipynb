{
  "nbformat": 4,
  "nbformat_minor": 0,
  "metadata": {
    "colab": {
      "provenance": []
    },
    "kernelspec": {
      "name": "python3",
      "display_name": "Python 3"
    },
    "language_info": {
      "name": "python"
    }
  },
  "cells": [
    {
      "cell_type": "markdown",
      "source": [
        "# NATURAL LANGUAGE PROCESS==NLP\n",
        "Temel olarak, bilgisayarların insan dilini anlamasını, yorumlamasını, üretmesini ve cevaplamasını sağlamak için tasarlanmıştır.\n",
        "\n",
        "NLP'nin ana hedefleri şunlardır:\n",
        "\n",
        "Metin Anlama: Bilgisayarların yazılı metinleri anlamalarını sağlamak. Bu, dilbilgisi, semantik ve pragmatik gibi dilbilim konularını içerir.\n",
        "\n",
        "Konuşma Tanıma: Bilgisayarların konuşmayı anlamalarını sağlamak. Bu, ses dosyalarını metne dönüştürme ve konuşulanı anlama süreçlerini içerir.\n",
        "\n",
        "Metin Üretme: Bilgisayarların dilbilgisine uygun metinler oluşturmasını sağlamak.\n",
        "\n",
        "Çeviri: Bilgisayarların bir dili diğerine çevirmelerini sağlamak.\n",
        "\n",
        "Duygu Analizi: Metinlerdeki duygusal tonları anlamak ve sınıflandırmak.\n",
        "\n",
        "Bilgi Çıkarma: Metinlerden bilgi çıkarmak, örneğin belirli konulardaki önemli bilgileri belirlemek.\n",
        "## Kütüphane\n",
        "* nltk"
      ],
      "metadata": {
        "id": "gq3muimod0eT"
      }
    },
    {
      "cell_type": "markdown",
      "source": [
        "# ** DATASET**\n",
        "https://www.kaggle.com/datasets/crowdflower/twitter-user-gender-classification"
      ],
      "metadata": {
        "id": "IiaiSxRWe1rC"
      }
    },
    {
      "cell_type": "code",
      "source": [
        "import pandas as pd\n",
        "df=pd.read_csv(r\"tw.csv\",encoding=\"latin1\")\n",
        "df.columns"
      ],
      "metadata": {
        "colab": {
          "base_uri": "https://localhost:8080/"
        },
        "id": "fW67sKiweVCm",
        "outputId": "13242b0d-1a02-449a-ee19-258d0c5003c9"
      },
      "execution_count": 178,
      "outputs": [
        {
          "output_type": "execute_result",
          "data": {
            "text/plain": [
              "Index(['_unit_id', '_golden', '_unit_state', '_trusted_judgments',\n",
              "       '_last_judgment_at', 'gender', 'gender:confidence', 'profile_yn',\n",
              "       'profile_yn:confidence', 'created', 'description', 'fav_number',\n",
              "       'gender_gold', 'link_color', 'name', 'profile_yn_gold', 'profileimage',\n",
              "       'retweet_count', 'sidebar_color', 'text', 'tweet_coord', 'tweet_count',\n",
              "       'tweet_created', 'tweet_id', 'tweet_location', 'user_timezone'],\n",
              "      dtype='object')"
            ]
          },
          "metadata": {},
          "execution_count": 178
        }
      ]
    },
    {
      "cell_type": "code",
      "source": [
        "df=pd.concat([df[\"gender\"],df[\"description\"]],axis=1)\n",
        "df.dropna(inplace=True,axis=0)\n",
        "df.info()"
      ],
      "metadata": {
        "colab": {
          "base_uri": "https://localhost:8080/"
        },
        "id": "JkBvSNFOfs84",
        "outputId": "8a7e380b-e52e-47bb-89a1-afcecbe42f7f"
      },
      "execution_count": 179,
      "outputs": [
        {
          "output_type": "stream",
          "name": "stdout",
          "text": [
            "<class 'pandas.core.frame.DataFrame'>\n",
            "Int64Index: 16224 entries, 0 to 20049\n",
            "Data columns (total 2 columns):\n",
            " #   Column       Non-Null Count  Dtype \n",
            "---  ------       --------------  ----- \n",
            " 0   gender       16224 non-null  object\n",
            " 1   description  16224 non-null  object\n",
            "dtypes: object(2)\n",
            "memory usage: 380.2+ KB\n"
          ]
        }
      ]
    },
    {
      "cell_type": "code",
      "source": [
        "df[\"gender\"]=[1 if i==\"female\" else 0 for i in df[\"gender\"]]\n",
        "df.head()"
      ],
      "metadata": {
        "colab": {
          "base_uri": "https://localhost:8080/",
          "height": 206
        },
        "id": "XdUbM0mOgNAU",
        "outputId": "e171b4f9-b285-4c61-d343-f1fcf80b212e"
      },
      "execution_count": 180,
      "outputs": [
        {
          "output_type": "execute_result",
          "data": {
            "text/plain": [
              "   gender                                        description\n",
              "0       0                              i sing my own rhythm.\n",
              "1       0  I'm the author of novels filled with family dr...\n",
              "2       0                louis whining and squealing and all\n",
              "3       0  Mobile guy.  49ers, Shazam, Google, Kleiner Pe...\n",
              "4       1  Ricky Wilson The Best FRONTMAN/Kaiser Chiefs T..."
            ],
            "text/html": [
              "\n",
              "  <div id=\"df-7ba614c1-1487-45b4-afa5-63056c826fef\" class=\"colab-df-container\">\n",
              "    <div>\n",
              "<style scoped>\n",
              "    .dataframe tbody tr th:only-of-type {\n",
              "        vertical-align: middle;\n",
              "    }\n",
              "\n",
              "    .dataframe tbody tr th {\n",
              "        vertical-align: top;\n",
              "    }\n",
              "\n",
              "    .dataframe thead th {\n",
              "        text-align: right;\n",
              "    }\n",
              "</style>\n",
              "<table border=\"1\" class=\"dataframe\">\n",
              "  <thead>\n",
              "    <tr style=\"text-align: right;\">\n",
              "      <th></th>\n",
              "      <th>gender</th>\n",
              "      <th>description</th>\n",
              "    </tr>\n",
              "  </thead>\n",
              "  <tbody>\n",
              "    <tr>\n",
              "      <th>0</th>\n",
              "      <td>0</td>\n",
              "      <td>i sing my own rhythm.</td>\n",
              "    </tr>\n",
              "    <tr>\n",
              "      <th>1</th>\n",
              "      <td>0</td>\n",
              "      <td>I'm the author of novels filled with family dr...</td>\n",
              "    </tr>\n",
              "    <tr>\n",
              "      <th>2</th>\n",
              "      <td>0</td>\n",
              "      <td>louis whining and squealing and all</td>\n",
              "    </tr>\n",
              "    <tr>\n",
              "      <th>3</th>\n",
              "      <td>0</td>\n",
              "      <td>Mobile guy.  49ers, Shazam, Google, Kleiner Pe...</td>\n",
              "    </tr>\n",
              "    <tr>\n",
              "      <th>4</th>\n",
              "      <td>1</td>\n",
              "      <td>Ricky Wilson The Best FRONTMAN/Kaiser Chiefs T...</td>\n",
              "    </tr>\n",
              "  </tbody>\n",
              "</table>\n",
              "</div>\n",
              "    <div class=\"colab-df-buttons\">\n",
              "\n",
              "  <div class=\"colab-df-container\">\n",
              "    <button class=\"colab-df-convert\" onclick=\"convertToInteractive('df-7ba614c1-1487-45b4-afa5-63056c826fef')\"\n",
              "            title=\"Convert this dataframe to an interactive table.\"\n",
              "            style=\"display:none;\">\n",
              "\n",
              "  <svg xmlns=\"http://www.w3.org/2000/svg\" height=\"24px\" viewBox=\"0 -960 960 960\">\n",
              "    <path d=\"M120-120v-720h720v720H120Zm60-500h600v-160H180v160Zm220 220h160v-160H400v160Zm0 220h160v-160H400v160ZM180-400h160v-160H180v160Zm440 0h160v-160H620v160ZM180-180h160v-160H180v160Zm440 0h160v-160H620v160Z\"/>\n",
              "  </svg>\n",
              "    </button>\n",
              "\n",
              "  <style>\n",
              "    .colab-df-container {\n",
              "      display:flex;\n",
              "      gap: 12px;\n",
              "    }\n",
              "\n",
              "    .colab-df-convert {\n",
              "      background-color: #E8F0FE;\n",
              "      border: none;\n",
              "      border-radius: 50%;\n",
              "      cursor: pointer;\n",
              "      display: none;\n",
              "      fill: #1967D2;\n",
              "      height: 32px;\n",
              "      padding: 0 0 0 0;\n",
              "      width: 32px;\n",
              "    }\n",
              "\n",
              "    .colab-df-convert:hover {\n",
              "      background-color: #E2EBFA;\n",
              "      box-shadow: 0px 1px 2px rgba(60, 64, 67, 0.3), 0px 1px 3px 1px rgba(60, 64, 67, 0.15);\n",
              "      fill: #174EA6;\n",
              "    }\n",
              "\n",
              "    .colab-df-buttons div {\n",
              "      margin-bottom: 4px;\n",
              "    }\n",
              "\n",
              "    [theme=dark] .colab-df-convert {\n",
              "      background-color: #3B4455;\n",
              "      fill: #D2E3FC;\n",
              "    }\n",
              "\n",
              "    [theme=dark] .colab-df-convert:hover {\n",
              "      background-color: #434B5C;\n",
              "      box-shadow: 0px 1px 3px 1px rgba(0, 0, 0, 0.15);\n",
              "      filter: drop-shadow(0px 1px 2px rgba(0, 0, 0, 0.3));\n",
              "      fill: #FFFFFF;\n",
              "    }\n",
              "  </style>\n",
              "\n",
              "    <script>\n",
              "      const buttonEl =\n",
              "        document.querySelector('#df-7ba614c1-1487-45b4-afa5-63056c826fef button.colab-df-convert');\n",
              "      buttonEl.style.display =\n",
              "        google.colab.kernel.accessAllowed ? 'block' : 'none';\n",
              "\n",
              "      async function convertToInteractive(key) {\n",
              "        const element = document.querySelector('#df-7ba614c1-1487-45b4-afa5-63056c826fef');\n",
              "        const dataTable =\n",
              "          await google.colab.kernel.invokeFunction('convertToInteractive',\n",
              "                                                    [key], {});\n",
              "        if (!dataTable) return;\n",
              "\n",
              "        const docLinkHtml = 'Like what you see? Visit the ' +\n",
              "          '<a target=\"_blank\" href=https://colab.research.google.com/notebooks/data_table.ipynb>data table notebook</a>'\n",
              "          + ' to learn more about interactive tables.';\n",
              "        element.innerHTML = '';\n",
              "        dataTable['output_type'] = 'display_data';\n",
              "        await google.colab.output.renderOutput(dataTable, element);\n",
              "        const docLink = document.createElement('div');\n",
              "        docLink.innerHTML = docLinkHtml;\n",
              "        element.appendChild(docLink);\n",
              "      }\n",
              "    </script>\n",
              "  </div>\n",
              "\n",
              "\n",
              "<div id=\"df-d394a753-1d8f-49d4-b804-284ce29f212a\">\n",
              "  <button class=\"colab-df-quickchart\" onclick=\"quickchart('df-d394a753-1d8f-49d4-b804-284ce29f212a')\"\n",
              "            title=\"Suggest charts\"\n",
              "            style=\"display:none;\">\n",
              "\n",
              "<svg xmlns=\"http://www.w3.org/2000/svg\" height=\"24px\"viewBox=\"0 0 24 24\"\n",
              "     width=\"24px\">\n",
              "    <g>\n",
              "        <path d=\"M19 3H5c-1.1 0-2 .9-2 2v14c0 1.1.9 2 2 2h14c1.1 0 2-.9 2-2V5c0-1.1-.9-2-2-2zM9 17H7v-7h2v7zm4 0h-2V7h2v10zm4 0h-2v-4h2v4z\"/>\n",
              "    </g>\n",
              "</svg>\n",
              "  </button>\n",
              "\n",
              "<style>\n",
              "  .colab-df-quickchart {\n",
              "      --bg-color: #E8F0FE;\n",
              "      --fill-color: #1967D2;\n",
              "      --hover-bg-color: #E2EBFA;\n",
              "      --hover-fill-color: #174EA6;\n",
              "      --disabled-fill-color: #AAA;\n",
              "      --disabled-bg-color: #DDD;\n",
              "  }\n",
              "\n",
              "  [theme=dark] .colab-df-quickchart {\n",
              "      --bg-color: #3B4455;\n",
              "      --fill-color: #D2E3FC;\n",
              "      --hover-bg-color: #434B5C;\n",
              "      --hover-fill-color: #FFFFFF;\n",
              "      --disabled-bg-color: #3B4455;\n",
              "      --disabled-fill-color: #666;\n",
              "  }\n",
              "\n",
              "  .colab-df-quickchart {\n",
              "    background-color: var(--bg-color);\n",
              "    border: none;\n",
              "    border-radius: 50%;\n",
              "    cursor: pointer;\n",
              "    display: none;\n",
              "    fill: var(--fill-color);\n",
              "    height: 32px;\n",
              "    padding: 0;\n",
              "    width: 32px;\n",
              "  }\n",
              "\n",
              "  .colab-df-quickchart:hover {\n",
              "    background-color: var(--hover-bg-color);\n",
              "    box-shadow: 0 1px 2px rgba(60, 64, 67, 0.3), 0 1px 3px 1px rgba(60, 64, 67, 0.15);\n",
              "    fill: var(--button-hover-fill-color);\n",
              "  }\n",
              "\n",
              "  .colab-df-quickchart-complete:disabled,\n",
              "  .colab-df-quickchart-complete:disabled:hover {\n",
              "    background-color: var(--disabled-bg-color);\n",
              "    fill: var(--disabled-fill-color);\n",
              "    box-shadow: none;\n",
              "  }\n",
              "\n",
              "  .colab-df-spinner {\n",
              "    border: 2px solid var(--fill-color);\n",
              "    border-color: transparent;\n",
              "    border-bottom-color: var(--fill-color);\n",
              "    animation:\n",
              "      spin 1s steps(1) infinite;\n",
              "  }\n",
              "\n",
              "  @keyframes spin {\n",
              "    0% {\n",
              "      border-color: transparent;\n",
              "      border-bottom-color: var(--fill-color);\n",
              "      border-left-color: var(--fill-color);\n",
              "    }\n",
              "    20% {\n",
              "      border-color: transparent;\n",
              "      border-left-color: var(--fill-color);\n",
              "      border-top-color: var(--fill-color);\n",
              "    }\n",
              "    30% {\n",
              "      border-color: transparent;\n",
              "      border-left-color: var(--fill-color);\n",
              "      border-top-color: var(--fill-color);\n",
              "      border-right-color: var(--fill-color);\n",
              "    }\n",
              "    40% {\n",
              "      border-color: transparent;\n",
              "      border-right-color: var(--fill-color);\n",
              "      border-top-color: var(--fill-color);\n",
              "    }\n",
              "    60% {\n",
              "      border-color: transparent;\n",
              "      border-right-color: var(--fill-color);\n",
              "    }\n",
              "    80% {\n",
              "      border-color: transparent;\n",
              "      border-right-color: var(--fill-color);\n",
              "      border-bottom-color: var(--fill-color);\n",
              "    }\n",
              "    90% {\n",
              "      border-color: transparent;\n",
              "      border-bottom-color: var(--fill-color);\n",
              "    }\n",
              "  }\n",
              "</style>\n",
              "\n",
              "  <script>\n",
              "    async function quickchart(key) {\n",
              "      const quickchartButtonEl =\n",
              "        document.querySelector('#' + key + ' button');\n",
              "      quickchartButtonEl.disabled = true;  // To prevent multiple clicks.\n",
              "      quickchartButtonEl.classList.add('colab-df-spinner');\n",
              "      try {\n",
              "        const charts = await google.colab.kernel.invokeFunction(\n",
              "            'suggestCharts', [key], {});\n",
              "      } catch (error) {\n",
              "        console.error('Error during call to suggestCharts:', error);\n",
              "      }\n",
              "      quickchartButtonEl.classList.remove('colab-df-spinner');\n",
              "      quickchartButtonEl.classList.add('colab-df-quickchart-complete');\n",
              "    }\n",
              "    (() => {\n",
              "      let quickchartButtonEl =\n",
              "        document.querySelector('#df-d394a753-1d8f-49d4-b804-284ce29f212a button');\n",
              "      quickchartButtonEl.style.display =\n",
              "        google.colab.kernel.accessAllowed ? 'block' : 'none';\n",
              "    })();\n",
              "  </script>\n",
              "</div>\n",
              "    </div>\n",
              "  </div>\n"
            ]
          },
          "metadata": {},
          "execution_count": 180
        }
      ]
    },
    {
      "cell_type": "markdown",
      "source": [
        "## Data Cleaning and Preperation\n",
        "regular expression(RE)  \"[^a-zA-z]\""
      ],
      "metadata": {
        "id": "EXGIn3PEjpmS"
      }
    },
    {
      "cell_type": "code",
      "source": [
        "import re\n",
        "first_description=df[\"description\"][4]\n",
        "print(first_description)\n",
        "description=re.sub(\"[^a-zA-z]\",\" \",first_description)#a z ye olanları seçme. ^- -> seçme demek.a dan z ye kadar olmayanları boşlukla değiştir\n",
        "description=description.lower()\n",
        "print(description)"
      ],
      "metadata": {
        "colab": {
          "base_uri": "https://localhost:8080/"
        },
        "id": "1S5AutK5hsSU",
        "outputId": "0c877707-e0a9-4aaf-b81b-dbc1d308b513"
      },
      "execution_count": 181,
      "outputs": [
        {
          "output_type": "stream",
          "name": "stdout",
          "text": [
            "Ricky Wilson The Best FRONTMAN/Kaiser Chiefs The Best BAND Xxxx Thank you Kaiser Chiefs for an incredible year of gigs and memories to cherish always :) Xxxxxxx\n",
            "ricky wilson the best frontman kaiser chiefs the best band xxxx thank you kaiser chiefs for an incredible year of gigs and memories to cherish always    xxxxxxx\n"
          ]
        }
      ]
    },
    {
      "cell_type": "markdown",
      "source": [
        "## Irrelevant Words(Stopwords)"
      ],
      "metadata": {
        "id": "J3BioypD618d"
      }
    },
    {
      "cell_type": "code",
      "source": [
        "#ırrelevant words=gereksiz kelimeler(the,and,as vs..)\n",
        "import nltk\n",
        "nltk.download(\"stopwords\")\n",
        "\n",
        "from nltk.corpus import stopwords\n",
        "\n",
        "description=nltk.word_tokenize(description)\n",
        "description=[i for i in description if not i in set(stopwords.words(\"english\"))]\n",
        "\n"
      ],
      "metadata": {
        "colab": {
          "base_uri": "https://localhost:8080/"
        },
        "id": "G2oaf99_6ZOH",
        "outputId": "c82d9e27-57bc-456a-cd8a-2fc31a4e8b2d"
      },
      "execution_count": 182,
      "outputs": [
        {
          "output_type": "stream",
          "name": "stderr",
          "text": [
            "[nltk_data] Downloading package stopwords to /root/nltk_data...\n",
            "[nltk_data]   Package stopwords is already up-to-date!\n"
          ]
        }
      ]
    },
    {
      "cell_type": "code",
      "source": [
        "print(description)"
      ],
      "metadata": {
        "colab": {
          "base_uri": "https://localhost:8080/"
        },
        "id": "c6VEiU0X6apH",
        "outputId": "27333f37-06a5-4c2d-ba30-8ff1c8e3779d"
      },
      "execution_count": 183,
      "outputs": [
        {
          "output_type": "stream",
          "name": "stdout",
          "text": [
            "['ricky', 'wilson', 'best', 'frontman', 'kaiser', 'chiefs', 'best', 'band', 'xxxx', 'thank', 'kaiser', 'chiefs', 'incredible', 'year', 'gigs', 'memories', 'cherish', 'always', 'xxxxxxx']\n"
          ]
        }
      ]
    },
    {
      "cell_type": "markdown",
      "source": [
        "## Lemmatization\n",
        "* Bu metodolojinin anahtarı dilbilimidir.Doğru lemma’yı açığa çıkarmak için her kelimenin morfolojik analizine bakmak gerekir.Bu, böyle bir analiz sağlanacak her dil için sözlüklere sahip olunması gerektiğini ele alır."
      ],
      "metadata": {
        "id": "5Ja34qg__oiT"
      }
    },
    {
      "cell_type": "code",
      "source": [
        "nltk.download('wordnet')\n",
        "lemma=nltk.WordNetLemmatizer()\n",
        "description=[lemma.lemmatize(i) for i in description ]"
      ],
      "metadata": {
        "colab": {
          "base_uri": "https://localhost:8080/"
        },
        "id": "kMxkbnpE_gs3",
        "outputId": "0c2b3980-3767-4b90-801d-3dbd0781a572"
      },
      "execution_count": 184,
      "outputs": [
        {
          "output_type": "stream",
          "name": "stderr",
          "text": [
            "[nltk_data] Downloading package wordnet to /root/nltk_data...\n",
            "[nltk_data]   Package wordnet is already up-to-date!\n"
          ]
        }
      ]
    },
    {
      "cell_type": "code",
      "source": [
        "print(description)  #kelime köklerini bulduk"
      ],
      "metadata": {
        "colab": {
          "base_uri": "https://localhost:8080/"
        },
        "id": "1fY48gqrAvPQ",
        "outputId": "a1b90ffc-831e-4f8f-ab54-41ad0ac32380"
      },
      "execution_count": 185,
      "outputs": [
        {
          "output_type": "stream",
          "name": "stdout",
          "text": [
            "['ricky', 'wilson', 'best', 'frontman', 'kaiser', 'chief', 'best', 'band', 'xxxx', 'thank', 'kaiser', 'chief', 'incredible', 'year', 'gig', 'memory', 'cherish', 'always', 'xxxxxxx']\n"
          ]
        }
      ]
    },
    {
      "cell_type": "code",
      "source": [
        "description=\" \".join(description)\n",
        "print(description)#kelimenin kökleriyle cümle oluşturduk.\"memories \" , \"memory\" oldu cümlede"
      ],
      "metadata": {
        "colab": {
          "base_uri": "https://localhost:8080/"
        },
        "id": "NfH6CDuXA-9E",
        "outputId": "1f748032-ce38-45f5-de4e-4f648e5a4c2c"
      },
      "execution_count": 186,
      "outputs": [
        {
          "output_type": "stream",
          "name": "stdout",
          "text": [
            "ricky wilson best frontman kaiser chief best band xxxx thank kaiser chief incredible year gig memory cherish always xxxxxxx\n"
          ]
        }
      ]
    },
    {
      "cell_type": "markdown",
      "source": [
        "* Df mizin description sutununun 4.verisi yerine tüm satırlara bu işlemleri uygulayacağız aynı sutunda\n"
      ],
      "metadata": {
        "id": "nFNV_5sHFMBo"
      }
    },
    {
      "cell_type": "code",
      "source": [
        "description_list=[]\n",
        "import re\n",
        "for description in df[\"description\"]:\n",
        "  description=re.sub(\"[^a-zA-z]\",\" \",description)#a z ye olanları seçme. ^- -> seçme demek.a dan z ye kadar olmayanları boşlukla değiştir\n",
        "  description=description.lower()\n",
        "\n",
        "  description=nltk.word_tokenize(description)\n",
        "  description=[i for i in description if not i in set(stopwords.words(\"english\"))]\n",
        "\n",
        "\n",
        "  lemma=nltk.WordNetLemmatizer()\n",
        "  description=[lemma.lemmatize(i) for i in description ]\n",
        "\n",
        "  description=\" \".join(description)\n",
        "  description_list.append(description)\n",
        "\n"
      ],
      "metadata": {
        "id": "W1yXXgtpBOJn"
      },
      "execution_count": 187,
      "outputs": []
    },
    {
      "cell_type": "code",
      "source": [
        "description_list[0:50]"
      ],
      "metadata": {
        "colab": {
          "base_uri": "https://localhost:8080/"
        },
        "id": "WT8XmeIKGFbe",
        "outputId": "acf69180-bc63-4130-aa90-9f915d775f3d"
      },
      "execution_count": 188,
      "outputs": [
        {
          "output_type": "execute_result",
          "data": {
            "text/plain": [
              "['sing rhythm',\n",
              " 'author novel filled family drama romance',\n",
              " 'louis whining squealing',\n",
              " 'mobile guy er shazam google kleiner perkins yahoo sprint pc airtouch air force stanford gsb uva dad husband brother golfer',\n",
              " 'ricky wilson best frontman kaiser chief best band xxxx thank kaiser chief incredible year gig memory cherish always xxxxxxx',\n",
              " 'know',\n",
              " 'global marketplace image video music sharing photo inspiration design tip video creative community',\n",
              " 'secret getting ahead getting started',\n",
              " 'pll fan crazy mcd ramen bae',\n",
              " 'renaissance art historian university nottingham fuelled haribo partial coffee soft spot renaissance china national teaching fellow',\n",
              " 'clean food taste great providing energy nutrient guilt granola vegan paleo friendly option cert organic gf kosher',\n",
              " 'highly extraordinary auction',\n",
              " 'senior xi xii mmxiv',\n",
              " 'come join fastest blog network online today http co mfpa vgk http co mpuuqtyf g cover credit repair credit card bankruptcy',\n",
              " 'im p bo burnham disney world',\n",
              " 'jmkm _',\n",
              " 'enthusiastic f fan model collector music fan film fanatic also aspergian',\n",
              " 'artisan specializing paper mache print making fibre art art teacher cat devotee find page fb http co g bstg icv',\n",
              " 'bled died take away sin',\n",
              " 'union j xxxx',\n",
              " 'start',\n",
              " 'bsc economics graduate coys',\n",
              " 'wife coach mom eight troop follower christ',\n",
              " 'question islam would like answer visit http co alpmzgct x chat u',\n",
              " 'canadian space enthusiast future astronaut hopefully',\n",
              " 'dm closed sc dear_moonshine',\n",
              " 'rl writer lewd aspiring femboy enjoys oneechans girlcock rts softcore r nsfw account listed',\n",
              " 'breaking industry news people believe thing much tv know',\n",
              " 'award winning author paranormal romance thriller hath fury technology writer http co lmmiowenqq asmsg',\n",
              " 'self proclaimed princess occasional pain as',\n",
              " 'k smooty drink alot could worse scrolling girl nude watching brady beat team patsnation suprememeninist alwaysturnt',\n",
              " 'everything need find job keep follow tweet new job posting',\n",
              " 'free bros ebk otr real kno grind wea come',\n",
              " 'nation leading voice childcare advocating affordable high quality ece working family undertakes research report child care data',\n",
              " 'penn state alum classof',\n",
              " 'mirage homage capri eternal hopeless romantic really hopeles',\n",
              " 'lover woman dog cat dog movie comic tv video game book wrestling existentialism adult ent',\n",
              " 'collective genre specific blog combining like voltron provide best coverage imaginable thefullbleed scifitalk geeklegacy thmatrix',\n",
              " 'militante obrero de los sue o revolucionarios desde toda la vida chavista de coraz _n comandante vives x pre',\n",
              " 'love animal fetchfind new way find job network pet industry mascot heyfetchy fetchylovesyou',\n",
              " 'baby perfect niallofficial',\n",
              " 'kennedy j abulala ni mwalimu anayeienzi kazi yake mwalimu wa kiswahili',\n",
              " '[ krothedj gmail com ] [ instagram djkro ]',\n",
              " 'slightly ginger blue eye park run _',\n",
              " 'living life top food chain',\n",
              " 'n ipgkk',\n",
              " 'home office business sweet business',\n",
              " 'goodmorning mention anyone retweeet must follow back fav follow',\n",
              " 'pc xbox playstation esports music edm stock sex',\n",
              " 'warholian obsessor creating within orwellian nightmare allsceneeye larecord']"
            ]
          },
          "metadata": {},
          "execution_count": 188
        }
      ]
    },
    {
      "cell_type": "markdown",
      "source": [
        "## Bag of Words"
      ],
      "metadata": {
        "id": "2x4YHNy0JOla"
      }
    },
    {
      "cell_type": "markdown",
      "source": [
        "![Adsız.png](data:image/png;base64,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)"
      ],
      "metadata": {
        "id": "jIBa2M03JQ2b"
      }
    },
    {
      "cell_type": "code",
      "source": [
        "from sklearn.feature_extraction.text import CountVectorizer #bow yaratmak için method\n",
        "max_features=1500 #en çok kullanılan 1500 kelime seç\n",
        "\n",
        "count_vectorizer=CountVectorizer(max_features=max_features,stop_words=\"english\")\n",
        "\n",
        "sparse_matrix=count_vectorizer.fit_transform(description_list).toarray() #X\n",
        "\n",
        "\n",
        "print(f\"en cok kullanilan {max_features} kelimeler : {count_vectorizer.get_feature_names_out()}\")\n"
      ],
      "metadata": {
        "colab": {
          "base_uri": "https://localhost:8080/"
        },
        "id": "SdJGGGP2Gfes",
        "outputId": "464e7151-5f8b-4e74-fd56-2737b6f097f8"
      },
      "execution_count": 205,
      "outputs": [
        {
          "output_type": "stream",
          "name": "stdout",
          "text": [
            "en cok kullanilan 1500 kelimeler : ['__' '___' '_n' ... 'youtuber' 'yr' 'zayn']\n"
          ]
        }
      ]
    },
    {
      "cell_type": "markdown",
      "source": [
        "## Machine Learning Modelini Kurma"
      ],
      "metadata": {
        "id": "8eT4lqCVL-w6"
      }
    },
    {
      "cell_type": "code",
      "source": [
        "X=sparse_matrix\n",
        "y=df.iloc[:,0].values\n",
        "\n",
        "from sklearn.model_selection import train_test_split\n",
        "X_train,X_test,y_train,y_test=train_test_split(X,y,test_size=0.1,random_state=42)\n",
        "\n",
        "from sklearn.naive_bayes import GaussianNB\n",
        "model=GaussianNB()\n",
        "model.fit(X_train,y_train)\n",
        "\n",
        "y_pred=model.predict(X_test)\n",
        "\n",
        "from sklearn.metrics import accuracy_score\n",
        "accuracy = accuracy_score(y_test, y_pred)\n",
        "print(f\"Accuracy: {accuracy}\")"
      ],
      "metadata": {
        "colab": {
          "base_uri": "https://localhost:8080/"
        },
        "id": "PVs_BAgjKNd2",
        "outputId": "682f6d46-dc35-4e6b-9cb5-6cc5a6cf571a"
      },
      "execution_count": 206,
      "outputs": [
        {
          "output_type": "stream",
          "name": "stdout",
          "text": [
            "Accuracy: 0.5816389402341343\n"
          ]
        }
      ]
    },
    {
      "cell_type": "code",
      "source": [],
      "metadata": {
        "id": "2UY0vf6CPymt"
      },
      "execution_count": null,
      "outputs": []
    }
  ]
}