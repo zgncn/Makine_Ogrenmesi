{
  "nbformat": 4,
  "nbformat_minor": 0,
  "metadata": {
    "colab": {
      "provenance": []
    },
    "kernelspec": {
      "name": "python3",
      "display_name": "Python 3"
    },
    "language_info": {
      "name": "python"
    }
  },
  "cells": [
    {
      "cell_type": "markdown",
      "source": [
        "![Adsız.png](data:image/png;base64,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)"
      ],
      "metadata": {
        "id": "9vOPdySInA88"
      }
    },
    {
      "cell_type": "code",
      "source": [
        "import pandas as pd\n",
        "import numpy as np\n",
        "import matplotlib.pyplot as plt\n",
        "from sklearn.linear_model import LinearRegression"
      ],
      "metadata": {
        "id": "VSsZya-zhQ5N"
      },
      "execution_count": 1,
      "outputs": []
    },
    {
      "cell_type": "code",
      "source": [
        "a={\n",
        "    \"deneyim\":[0.5,0,1,5,8,4,15,7,3,2,12,10,14,6],\n",
        "    \"maas\":[2500,2250,2750,8000,9000,6900,20000,8500,6000,3500,15000,13000,18000,7500],\n",
        "    \"yas\":[22,21,23,25,28,23,35,29,22,23,32,30,34,27]\n",
        "}\n",
        "df=pd.DataFrame(a)\n",
        "df"
      ],
      "metadata": {
        "colab": {
          "base_uri": "https://localhost:8080/",
          "height": 488
        },
        "id": "B2KcPNCsgRyd",
        "outputId": "e45bc496-eef0-4df2-f43d-486c837310cf"
      },
      "execution_count": 2,
      "outputs": [
        {
          "output_type": "execute_result",
          "data": {
            "text/plain": [
              "    deneyim   maas  yas\n",
              "0       0.5   2500   22\n",
              "1       0.0   2250   21\n",
              "2       1.0   2750   23\n",
              "3       5.0   8000   25\n",
              "4       8.0   9000   28\n",
              "5       4.0   6900   23\n",
              "6      15.0  20000   35\n",
              "7       7.0   8500   29\n",
              "8       3.0   6000   22\n",
              "9       2.0   3500   23\n",
              "10     12.0  15000   32\n",
              "11     10.0  13000   30\n",
              "12     14.0  18000   34\n",
              "13      6.0   7500   27"
            ],
            "text/html": [
              "\n",
              "  <div id=\"df-8ecac919-c22b-4a05-b36d-80470a208437\" class=\"colab-df-container\">\n",
              "    <div>\n",
              "<style scoped>\n",
              "    .dataframe tbody tr th:only-of-type {\n",
              "        vertical-align: middle;\n",
              "    }\n",
              "\n",
              "    .dataframe tbody tr th {\n",
              "        vertical-align: top;\n",
              "    }\n",
              "\n",
              "    .dataframe thead th {\n",
              "        text-align: right;\n",
              "    }\n",
              "</style>\n",
              "<table border=\"1\" class=\"dataframe\">\n",
              "  <thead>\n",
              "    <tr style=\"text-align: right;\">\n",
              "      <th></th>\n",
              "      <th>deneyim</th>\n",
              "      <th>maas</th>\n",
              "      <th>yas</th>\n",
              "    </tr>\n",
              "  </thead>\n",
              "  <tbody>\n",
              "    <tr>\n",
              "      <th>0</th>\n",
              "      <td>0.5</td>\n",
              "      <td>2500</td>\n",
              "      <td>22</td>\n",
              "    </tr>\n",
              "    <tr>\n",
              "      <th>1</th>\n",
              "      <td>0.0</td>\n",
              "      <td>2250</td>\n",
              "      <td>21</td>\n",
              "    </tr>\n",
              "    <tr>\n",
              "      <th>2</th>\n",
              "      <td>1.0</td>\n",
              "      <td>2750</td>\n",
              "      <td>23</td>\n",
              "    </tr>\n",
              "    <tr>\n",
              "      <th>3</th>\n",
              "      <td>5.0</td>\n",
              "      <td>8000</td>\n",
              "      <td>25</td>\n",
              "    </tr>\n",
              "    <tr>\n",
              "      <th>4</th>\n",
              "      <td>8.0</td>\n",
              "      <td>9000</td>\n",
              "      <td>28</td>\n",
              "    </tr>\n",
              "    <tr>\n",
              "      <th>5</th>\n",
              "      <td>4.0</td>\n",
              "      <td>6900</td>\n",
              "      <td>23</td>\n",
              "    </tr>\n",
              "    <tr>\n",
              "      <th>6</th>\n",
              "      <td>15.0</td>\n",
              "      <td>20000</td>\n",
              "      <td>35</td>\n",
              "    </tr>\n",
              "    <tr>\n",
              "      <th>7</th>\n",
              "      <td>7.0</td>\n",
              "      <td>8500</td>\n",
              "      <td>29</td>\n",
              "    </tr>\n",
              "    <tr>\n",
              "      <th>8</th>\n",
              "      <td>3.0</td>\n",
              "      <td>6000</td>\n",
              "      <td>22</td>\n",
              "    </tr>\n",
              "    <tr>\n",
              "      <th>9</th>\n",
              "      <td>2.0</td>\n",
              "      <td>3500</td>\n",
              "      <td>23</td>\n",
              "    </tr>\n",
              "    <tr>\n",
              "      <th>10</th>\n",
              "      <td>12.0</td>\n",
              "      <td>15000</td>\n",
              "      <td>32</td>\n",
              "    </tr>\n",
              "    <tr>\n",
              "      <th>11</th>\n",
              "      <td>10.0</td>\n",
              "      <td>13000</td>\n",
              "      <td>30</td>\n",
              "    </tr>\n",
              "    <tr>\n",
              "      <th>12</th>\n",
              "      <td>14.0</td>\n",
              "      <td>18000</td>\n",
              "      <td>34</td>\n",
              "    </tr>\n",
              "    <tr>\n",
              "      <th>13</th>\n",
              "      <td>6.0</td>\n",
              "      <td>7500</td>\n",
              "      <td>27</td>\n",
              "    </tr>\n",
              "  </tbody>\n",
              "</table>\n",
              "</div>\n",
              "    <div class=\"colab-df-buttons\">\n",
              "\n",
              "  <div class=\"colab-df-container\">\n",
              "    <button class=\"colab-df-convert\" onclick=\"convertToInteractive('df-8ecac919-c22b-4a05-b36d-80470a208437')\"\n",
              "            title=\"Convert this dataframe to an interactive table.\"\n",
              "            style=\"display:none;\">\n",
              "\n",
              "  <svg xmlns=\"http://www.w3.org/2000/svg\" height=\"24px\" viewBox=\"0 -960 960 960\">\n",
              "    <path d=\"M120-120v-720h720v720H120Zm60-500h600v-160H180v160Zm220 220h160v-160H400v160Zm0 220h160v-160H400v160ZM180-400h160v-160H180v160Zm440 0h160v-160H620v160ZM180-180h160v-160H180v160Zm440 0h160v-160H620v160Z\"/>\n",
              "  </svg>\n",
              "    </button>\n",
              "\n",
              "  <style>\n",
              "    .colab-df-container {\n",
              "      display:flex;\n",
              "      gap: 12px;\n",
              "    }\n",
              "\n",
              "    .colab-df-convert {\n",
              "      background-color: #E8F0FE;\n",
              "      border: none;\n",
              "      border-radius: 50%;\n",
              "      cursor: pointer;\n",
              "      display: none;\n",
              "      fill: #1967D2;\n",
              "      height: 32px;\n",
              "      padding: 0 0 0 0;\n",
              "      width: 32px;\n",
              "    }\n",
              "\n",
              "    .colab-df-convert:hover {\n",
              "      background-color: #E2EBFA;\n",
              "      box-shadow: 0px 1px 2px rgba(60, 64, 67, 0.3), 0px 1px 3px 1px rgba(60, 64, 67, 0.15);\n",
              "      fill: #174EA6;\n",
              "    }\n",
              "\n",
              "    .colab-df-buttons div {\n",
              "      margin-bottom: 4px;\n",
              "    }\n",
              "\n",
              "    [theme=dark] .colab-df-convert {\n",
              "      background-color: #3B4455;\n",
              "      fill: #D2E3FC;\n",
              "    }\n",
              "\n",
              "    [theme=dark] .colab-df-convert:hover {\n",
              "      background-color: #434B5C;\n",
              "      box-shadow: 0px 1px 3px 1px rgba(0, 0, 0, 0.15);\n",
              "      filter: drop-shadow(0px 1px 2px rgba(0, 0, 0, 0.3));\n",
              "      fill: #FFFFFF;\n",
              "    }\n",
              "  </style>\n",
              "\n",
              "    <script>\n",
              "      const buttonEl =\n",
              "        document.querySelector('#df-8ecac919-c22b-4a05-b36d-80470a208437 button.colab-df-convert');\n",
              "      buttonEl.style.display =\n",
              "        google.colab.kernel.accessAllowed ? 'block' : 'none';\n",
              "\n",
              "      async function convertToInteractive(key) {\n",
              "        const element = document.querySelector('#df-8ecac919-c22b-4a05-b36d-80470a208437');\n",
              "        const dataTable =\n",
              "          await google.colab.kernel.invokeFunction('convertToInteractive',\n",
              "                                                    [key], {});\n",
              "        if (!dataTable) return;\n",
              "\n",
              "        const docLinkHtml = 'Like what you see? Visit the ' +\n",
              "          '<a target=\"_blank\" href=https://colab.research.google.com/notebooks/data_table.ipynb>data table notebook</a>'\n",
              "          + ' to learn more about interactive tables.';\n",
              "        element.innerHTML = '';\n",
              "        dataTable['output_type'] = 'display_data';\n",
              "        await google.colab.output.renderOutput(dataTable, element);\n",
              "        const docLink = document.createElement('div');\n",
              "        docLink.innerHTML = docLinkHtml;\n",
              "        element.appendChild(docLink);\n",
              "      }\n",
              "    </script>\n",
              "  </div>\n",
              "\n",
              "\n",
              "<div id=\"df-6de3b435-50cd-4c01-87cf-0af3ef5b8beb\">\n",
              "  <button class=\"colab-df-quickchart\" onclick=\"quickchart('df-6de3b435-50cd-4c01-87cf-0af3ef5b8beb')\"\n",
              "            title=\"Suggest charts.\"\n",
              "            style=\"display:none;\">\n",
              "\n",
              "<svg xmlns=\"http://www.w3.org/2000/svg\" height=\"24px\"viewBox=\"0 0 24 24\"\n",
              "     width=\"24px\">\n",
              "    <g>\n",
              "        <path d=\"M19 3H5c-1.1 0-2 .9-2 2v14c0 1.1.9 2 2 2h14c1.1 0 2-.9 2-2V5c0-1.1-.9-2-2-2zM9 17H7v-7h2v7zm4 0h-2V7h2v10zm4 0h-2v-4h2v4z\"/>\n",
              "    </g>\n",
              "</svg>\n",
              "  </button>\n",
              "\n",
              "<style>\n",
              "  .colab-df-quickchart {\n",
              "      --bg-color: #E8F0FE;\n",
              "      --fill-color: #1967D2;\n",
              "      --hover-bg-color: #E2EBFA;\n",
              "      --hover-fill-color: #174EA6;\n",
              "      --disabled-fill-color: #AAA;\n",
              "      --disabled-bg-color: #DDD;\n",
              "  }\n",
              "\n",
              "  [theme=dark] .colab-df-quickchart {\n",
              "      --bg-color: #3B4455;\n",
              "      --fill-color: #D2E3FC;\n",
              "      --hover-bg-color: #434B5C;\n",
              "      --hover-fill-color: #FFFFFF;\n",
              "      --disabled-bg-color: #3B4455;\n",
              "      --disabled-fill-color: #666;\n",
              "  }\n",
              "\n",
              "  .colab-df-quickchart {\n",
              "    background-color: var(--bg-color);\n",
              "    border: none;\n",
              "    border-radius: 50%;\n",
              "    cursor: pointer;\n",
              "    display: none;\n",
              "    fill: var(--fill-color);\n",
              "    height: 32px;\n",
              "    padding: 0;\n",
              "    width: 32px;\n",
              "  }\n",
              "\n",
              "  .colab-df-quickchart:hover {\n",
              "    background-color: var(--hover-bg-color);\n",
              "    box-shadow: 0 1px 2px rgba(60, 64, 67, 0.3), 0 1px 3px 1px rgba(60, 64, 67, 0.15);\n",
              "    fill: var(--button-hover-fill-color);\n",
              "  }\n",
              "\n",
              "  .colab-df-quickchart-complete:disabled,\n",
              "  .colab-df-quickchart-complete:disabled:hover {\n",
              "    background-color: var(--disabled-bg-color);\n",
              "    fill: var(--disabled-fill-color);\n",
              "    box-shadow: none;\n",
              "  }\n",
              "\n",
              "  .colab-df-spinner {\n",
              "    border: 2px solid var(--fill-color);\n",
              "    border-color: transparent;\n",
              "    border-bottom-color: var(--fill-color);\n",
              "    animation:\n",
              "      spin 1s steps(1) infinite;\n",
              "  }\n",
              "\n",
              "  @keyframes spin {\n",
              "    0% {\n",
              "      border-color: transparent;\n",
              "      border-bottom-color: var(--fill-color);\n",
              "      border-left-color: var(--fill-color);\n",
              "    }\n",
              "    20% {\n",
              "      border-color: transparent;\n",
              "      border-left-color: var(--fill-color);\n",
              "      border-top-color: var(--fill-color);\n",
              "    }\n",
              "    30% {\n",
              "      border-color: transparent;\n",
              "      border-left-color: var(--fill-color);\n",
              "      border-top-color: var(--fill-color);\n",
              "      border-right-color: var(--fill-color);\n",
              "    }\n",
              "    40% {\n",
              "      border-color: transparent;\n",
              "      border-right-color: var(--fill-color);\n",
              "      border-top-color: var(--fill-color);\n",
              "    }\n",
              "    60% {\n",
              "      border-color: transparent;\n",
              "      border-right-color: var(--fill-color);\n",
              "    }\n",
              "    80% {\n",
              "      border-color: transparent;\n",
              "      border-right-color: var(--fill-color);\n",
              "      border-bottom-color: var(--fill-color);\n",
              "    }\n",
              "    90% {\n",
              "      border-color: transparent;\n",
              "      border-bottom-color: var(--fill-color);\n",
              "    }\n",
              "  }\n",
              "</style>\n",
              "\n",
              "  <script>\n",
              "    async function quickchart(key) {\n",
              "      const quickchartButtonEl =\n",
              "        document.querySelector('#' + key + ' button');\n",
              "      quickchartButtonEl.disabled = true;  // To prevent multiple clicks.\n",
              "      quickchartButtonEl.classList.add('colab-df-spinner');\n",
              "      try {\n",
              "        const charts = await google.colab.kernel.invokeFunction(\n",
              "            'suggestCharts', [key], {});\n",
              "      } catch (error) {\n",
              "        console.error('Error during call to suggestCharts:', error);\n",
              "      }\n",
              "      quickchartButtonEl.classList.remove('colab-df-spinner');\n",
              "      quickchartButtonEl.classList.add('colab-df-quickchart-complete');\n",
              "    }\n",
              "    (() => {\n",
              "      let quickchartButtonEl =\n",
              "        document.querySelector('#df-6de3b435-50cd-4c01-87cf-0af3ef5b8beb button');\n",
              "      quickchartButtonEl.style.display =\n",
              "        google.colab.kernel.accessAllowed ? 'block' : 'none';\n",
              "    })();\n",
              "  </script>\n",
              "</div>\n",
              "    </div>\n",
              "  </div>\n"
            ]
          },
          "metadata": {},
          "execution_count": 2
        }
      ]
    },
    {
      "cell_type": "code",
      "source": [
        "x=df[[\"deneyim\",\"yas\"]].values\n",
        "y=df[\"maas\"].values.reshape(-1,1)\n",
        "print(x.shape)\n",
        "print(y.shape)"
      ],
      "metadata": {
        "colab": {
          "base_uri": "https://localhost:8080/"
        },
        "id": "MAc07YrFhPuo",
        "outputId": "76a3a005-919c-4496-a506-cc87cdba4176"
      },
      "execution_count": 4,
      "outputs": [
        {
          "output_type": "stream",
          "name": "stdout",
          "text": [
            "(14, 2)\n",
            "(14, 1)\n"
          ]
        }
      ]
    },
    {
      "cell_type": "code",
      "source": [
        "model=LinearRegression()\n",
        "model.fit(x,y)"
      ],
      "metadata": {
        "colab": {
          "base_uri": "https://localhost:8080/",
          "height": 75
        },
        "id": "nOOZqgLOnvDr",
        "outputId": "bea706ff-1b7a-4933-8f65-157375731d4a"
      },
      "execution_count": 5,
      "outputs": [
        {
          "output_type": "execute_result",
          "data": {
            "text/plain": [
              "LinearRegression()"
            ],
            "text/html": [
              "<style>#sk-container-id-1 {color: black;background-color: white;}#sk-container-id-1 pre{padding: 0;}#sk-container-id-1 div.sk-toggleable {background-color: white;}#sk-container-id-1 label.sk-toggleable__label {cursor: pointer;display: block;width: 100%;margin-bottom: 0;padding: 0.3em;box-sizing: border-box;text-align: center;}#sk-container-id-1 label.sk-toggleable__label-arrow:before {content: \"▸\";float: left;margin-right: 0.25em;color: #696969;}#sk-container-id-1 label.sk-toggleable__label-arrow:hover:before {color: black;}#sk-container-id-1 div.sk-estimator:hover label.sk-toggleable__label-arrow:before {color: black;}#sk-container-id-1 div.sk-toggleable__content {max-height: 0;max-width: 0;overflow: hidden;text-align: left;background-color: #f0f8ff;}#sk-container-id-1 div.sk-toggleable__content pre {margin: 0.2em;color: black;border-radius: 0.25em;background-color: #f0f8ff;}#sk-container-id-1 input.sk-toggleable__control:checked~div.sk-toggleable__content {max-height: 200px;max-width: 100%;overflow: auto;}#sk-container-id-1 input.sk-toggleable__control:checked~label.sk-toggleable__label-arrow:before {content: \"▾\";}#sk-container-id-1 div.sk-estimator input.sk-toggleable__control:checked~label.sk-toggleable__label {background-color: #d4ebff;}#sk-container-id-1 div.sk-label input.sk-toggleable__control:checked~label.sk-toggleable__label {background-color: #d4ebff;}#sk-container-id-1 input.sk-hidden--visually {border: 0;clip: rect(1px 1px 1px 1px);clip: rect(1px, 1px, 1px, 1px);height: 1px;margin: -1px;overflow: hidden;padding: 0;position: absolute;width: 1px;}#sk-container-id-1 div.sk-estimator {font-family: monospace;background-color: #f0f8ff;border: 1px dotted black;border-radius: 0.25em;box-sizing: border-box;margin-bottom: 0.5em;}#sk-container-id-1 div.sk-estimator:hover {background-color: #d4ebff;}#sk-container-id-1 div.sk-parallel-item::after {content: \"\";width: 100%;border-bottom: 1px solid gray;flex-grow: 1;}#sk-container-id-1 div.sk-label:hover label.sk-toggleable__label {background-color: #d4ebff;}#sk-container-id-1 div.sk-serial::before {content: \"\";position: absolute;border-left: 1px solid gray;box-sizing: border-box;top: 0;bottom: 0;left: 50%;z-index: 0;}#sk-container-id-1 div.sk-serial {display: flex;flex-direction: column;align-items: center;background-color: white;padding-right: 0.2em;padding-left: 0.2em;position: relative;}#sk-container-id-1 div.sk-item {position: relative;z-index: 1;}#sk-container-id-1 div.sk-parallel {display: flex;align-items: stretch;justify-content: center;background-color: white;position: relative;}#sk-container-id-1 div.sk-item::before, #sk-container-id-1 div.sk-parallel-item::before {content: \"\";position: absolute;border-left: 1px solid gray;box-sizing: border-box;top: 0;bottom: 0;left: 50%;z-index: -1;}#sk-container-id-1 div.sk-parallel-item {display: flex;flex-direction: column;z-index: 1;position: relative;background-color: white;}#sk-container-id-1 div.sk-parallel-item:first-child::after {align-self: flex-end;width: 50%;}#sk-container-id-1 div.sk-parallel-item:last-child::after {align-self: flex-start;width: 50%;}#sk-container-id-1 div.sk-parallel-item:only-child::after {width: 0;}#sk-container-id-1 div.sk-dashed-wrapped {border: 1px dashed gray;margin: 0 0.4em 0.5em 0.4em;box-sizing: border-box;padding-bottom: 0.4em;background-color: white;}#sk-container-id-1 div.sk-label label {font-family: monospace;font-weight: bold;display: inline-block;line-height: 1.2em;}#sk-container-id-1 div.sk-label-container {text-align: center;}#sk-container-id-1 div.sk-container {/* jupyter's `normalize.less` sets `[hidden] { display: none; }` but bootstrap.min.css set `[hidden] { display: none !important; }` so we also need the `!important` here to be able to override the default hidden behavior on the sphinx rendered scikit-learn.org. See: https://github.com/scikit-learn/scikit-learn/issues/21755 */display: inline-block !important;position: relative;}#sk-container-id-1 div.sk-text-repr-fallback {display: none;}</style><div id=\"sk-container-id-1\" class=\"sk-top-container\"><div class=\"sk-text-repr-fallback\"><pre>LinearRegression()</pre><b>In a Jupyter environment, please rerun this cell to show the HTML representation or trust the notebook. <br />On GitHub, the HTML representation is unable to render, please try loading this page with nbviewer.org.</b></div><div class=\"sk-container\" hidden><div class=\"sk-item\"><div class=\"sk-estimator sk-toggleable\"><input class=\"sk-toggleable__control sk-hidden--visually\" id=\"sk-estimator-id-1\" type=\"checkbox\" checked><label for=\"sk-estimator-id-1\" class=\"sk-toggleable__label sk-toggleable__label-arrow\">LinearRegression</label><div class=\"sk-toggleable__content\"><pre>LinearRegression()</pre></div></div></div></div></div>"
            ]
          },
          "metadata": {},
          "execution_count": 5
        }
      ]
    },
    {
      "cell_type": "markdown",
      "source": [
        "## y=b0+b1*x1+b2*x2"
      ],
      "metadata": {
        "id": "UguorcXMoZXr"
      }
    },
    {
      "cell_type": "code",
      "source": [
        "b0=model.intercept_\n",
        "print(f\"b0: {b0}\")\n",
        "print(\"b1,b2: \",model.coef_)"
      ],
      "metadata": {
        "colab": {
          "base_uri": "https://localhost:8080/"
        },
        "id": "MVeYG40EoB7d",
        "outputId": "60447dd3-c0b0-4202-a032-2c198a2da53d"
      },
      "execution_count": 8,
      "outputs": [
        {
          "output_type": "stream",
          "name": "stdout",
          "text": [
            "b0: [10376.62747228]\n",
            "b1,b2 [[1525.50072054 -416.72218625]]\n"
          ]
        }
      ]
    },
    {
      "cell_type": "code",
      "source": [
        "model.predict(np.array([[10,35],[5,35]]))"
      ],
      "metadata": {
        "colab": {
          "base_uri": "https://localhost:8080/"
        },
        "id": "TnG8w37NoRHw",
        "outputId": "1d31a863-51aa-4776-c20b-8f5450241840"
      },
      "execution_count": 9,
      "outputs": [
        {
          "output_type": "execute_result",
          "data": {
            "text/plain": [
              "array([[11046.35815877],\n",
              "       [ 3418.85455609]])"
            ]
          },
          "metadata": {},
          "execution_count": 9
        }
      ]
    },
    {
      "cell_type": "markdown",
      "source": [
        "# Fenerbahcenin yıllara göre ve oynadığı maç sayısına göre attığı gol"
      ],
      "metadata": {
        "id": "Z5RLjYF7pmSD"
      }
    },
    {
      "cell_type": "code",
      "source": [
        "d={\n",
        "    \"yıl\":[2010,2011,2012,2013,2014,2015,2016,2017,2018,2019,2020,2021,2022,2023],\n",
        "    \"gol\":[61,84,61,56,74,60,60,60,78,44,58,72,73,87],\n",
        "    \"mac_sayisi\":[34,34,34,34,34,34,34,34,34,34,34,40,38,36]\n",
        "}\n",
        "df=pd.DataFrame(d)\n",
        "df"
      ],
      "metadata": {
        "colab": {
          "base_uri": "https://localhost:8080/",
          "height": 488
        },
        "id": "4W1BS4oZpQKd",
        "outputId": "598eef78-6e82-4e9d-bd46-ab3cb4283ca6"
      },
      "execution_count": 11,
      "outputs": [
        {
          "output_type": "execute_result",
          "data": {
            "text/plain": [
              "     yıl  gol  mac_sayisi\n",
              "0   2010   61          34\n",
              "1   2011   84          34\n",
              "2   2012   61          34\n",
              "3   2013   56          34\n",
              "4   2014   74          34\n",
              "5   2015   60          34\n",
              "6   2016   60          34\n",
              "7   2017   60          34\n",
              "8   2018   78          34\n",
              "9   2019   44          34\n",
              "10  2020   58          34\n",
              "11  2021   72          40\n",
              "12  2022   73          38\n",
              "13  2023   87          36"
            ],
            "text/html": [
              "\n",
              "  <div id=\"df-e75027c2-556e-4b7e-9880-8a8b82ae2270\" class=\"colab-df-container\">\n",
              "    <div>\n",
              "<style scoped>\n",
              "    .dataframe tbody tr th:only-of-type {\n",
              "        vertical-align: middle;\n",
              "    }\n",
              "\n",
              "    .dataframe tbody tr th {\n",
              "        vertical-align: top;\n",
              "    }\n",
              "\n",
              "    .dataframe thead th {\n",
              "        text-align: right;\n",
              "    }\n",
              "</style>\n",
              "<table border=\"1\" class=\"dataframe\">\n",
              "  <thead>\n",
              "    <tr style=\"text-align: right;\">\n",
              "      <th></th>\n",
              "      <th>yıl</th>\n",
              "      <th>gol</th>\n",
              "      <th>mac_sayisi</th>\n",
              "    </tr>\n",
              "  </thead>\n",
              "  <tbody>\n",
              "    <tr>\n",
              "      <th>0</th>\n",
              "      <td>2010</td>\n",
              "      <td>61</td>\n",
              "      <td>34</td>\n",
              "    </tr>\n",
              "    <tr>\n",
              "      <th>1</th>\n",
              "      <td>2011</td>\n",
              "      <td>84</td>\n",
              "      <td>34</td>\n",
              "    </tr>\n",
              "    <tr>\n",
              "      <th>2</th>\n",
              "      <td>2012</td>\n",
              "      <td>61</td>\n",
              "      <td>34</td>\n",
              "    </tr>\n",
              "    <tr>\n",
              "      <th>3</th>\n",
              "      <td>2013</td>\n",
              "      <td>56</td>\n",
              "      <td>34</td>\n",
              "    </tr>\n",
              "    <tr>\n",
              "      <th>4</th>\n",
              "      <td>2014</td>\n",
              "      <td>74</td>\n",
              "      <td>34</td>\n",
              "    </tr>\n",
              "    <tr>\n",
              "      <th>5</th>\n",
              "      <td>2015</td>\n",
              "      <td>60</td>\n",
              "      <td>34</td>\n",
              "    </tr>\n",
              "    <tr>\n",
              "      <th>6</th>\n",
              "      <td>2016</td>\n",
              "      <td>60</td>\n",
              "      <td>34</td>\n",
              "    </tr>\n",
              "    <tr>\n",
              "      <th>7</th>\n",
              "      <td>2017</td>\n",
              "      <td>60</td>\n",
              "      <td>34</td>\n",
              "    </tr>\n",
              "    <tr>\n",
              "      <th>8</th>\n",
              "      <td>2018</td>\n",
              "      <td>78</td>\n",
              "      <td>34</td>\n",
              "    </tr>\n",
              "    <tr>\n",
              "      <th>9</th>\n",
              "      <td>2019</td>\n",
              "      <td>44</td>\n",
              "      <td>34</td>\n",
              "    </tr>\n",
              "    <tr>\n",
              "      <th>10</th>\n",
              "      <td>2020</td>\n",
              "      <td>58</td>\n",
              "      <td>34</td>\n",
              "    </tr>\n",
              "    <tr>\n",
              "      <th>11</th>\n",
              "      <td>2021</td>\n",
              "      <td>72</td>\n",
              "      <td>40</td>\n",
              "    </tr>\n",
              "    <tr>\n",
              "      <th>12</th>\n",
              "      <td>2022</td>\n",
              "      <td>73</td>\n",
              "      <td>38</td>\n",
              "    </tr>\n",
              "    <tr>\n",
              "      <th>13</th>\n",
              "      <td>2023</td>\n",
              "      <td>87</td>\n",
              "      <td>36</td>\n",
              "    </tr>\n",
              "  </tbody>\n",
              "</table>\n",
              "</div>\n",
              "    <div class=\"colab-df-buttons\">\n",
              "\n",
              "  <div class=\"colab-df-container\">\n",
              "    <button class=\"colab-df-convert\" onclick=\"convertToInteractive('df-e75027c2-556e-4b7e-9880-8a8b82ae2270')\"\n",
              "            title=\"Convert this dataframe to an interactive table.\"\n",
              "            style=\"display:none;\">\n",
              "\n",
              "  <svg xmlns=\"http://www.w3.org/2000/svg\" height=\"24px\" viewBox=\"0 -960 960 960\">\n",
              "    <path d=\"M120-120v-720h720v720H120Zm60-500h600v-160H180v160Zm220 220h160v-160H400v160Zm0 220h160v-160H400v160ZM180-400h160v-160H180v160Zm440 0h160v-160H620v160ZM180-180h160v-160H180v160Zm440 0h160v-160H620v160Z\"/>\n",
              "  </svg>\n",
              "    </button>\n",
              "\n",
              "  <style>\n",
              "    .colab-df-container {\n",
              "      display:flex;\n",
              "      gap: 12px;\n",
              "    }\n",
              "\n",
              "    .colab-df-convert {\n",
              "      background-color: #E8F0FE;\n",
              "      border: none;\n",
              "      border-radius: 50%;\n",
              "      cursor: pointer;\n",
              "      display: none;\n",
              "      fill: #1967D2;\n",
              "      height: 32px;\n",
              "      padding: 0 0 0 0;\n",
              "      width: 32px;\n",
              "    }\n",
              "\n",
              "    .colab-df-convert:hover {\n",
              "      background-color: #E2EBFA;\n",
              "      box-shadow: 0px 1px 2px rgba(60, 64, 67, 0.3), 0px 1px 3px 1px rgba(60, 64, 67, 0.15);\n",
              "      fill: #174EA6;\n",
              "    }\n",
              "\n",
              "    .colab-df-buttons div {\n",
              "      margin-bottom: 4px;\n",
              "    }\n",
              "\n",
              "    [theme=dark] .colab-df-convert {\n",
              "      background-color: #3B4455;\n",
              "      fill: #D2E3FC;\n",
              "    }\n",
              "\n",
              "    [theme=dark] .colab-df-convert:hover {\n",
              "      background-color: #434B5C;\n",
              "      box-shadow: 0px 1px 3px 1px rgba(0, 0, 0, 0.15);\n",
              "      filter: drop-shadow(0px 1px 2px rgba(0, 0, 0, 0.3));\n",
              "      fill: #FFFFFF;\n",
              "    }\n",
              "  </style>\n",
              "\n",
              "    <script>\n",
              "      const buttonEl =\n",
              "        document.querySelector('#df-e75027c2-556e-4b7e-9880-8a8b82ae2270 button.colab-df-convert');\n",
              "      buttonEl.style.display =\n",
              "        google.colab.kernel.accessAllowed ? 'block' : 'none';\n",
              "\n",
              "      async function convertToInteractive(key) {\n",
              "        const element = document.querySelector('#df-e75027c2-556e-4b7e-9880-8a8b82ae2270');\n",
              "        const dataTable =\n",
              "          await google.colab.kernel.invokeFunction('convertToInteractive',\n",
              "                                                    [key], {});\n",
              "        if (!dataTable) return;\n",
              "\n",
              "        const docLinkHtml = 'Like what you see? Visit the ' +\n",
              "          '<a target=\"_blank\" href=https://colab.research.google.com/notebooks/data_table.ipynb>data table notebook</a>'\n",
              "          + ' to learn more about interactive tables.';\n",
              "        element.innerHTML = '';\n",
              "        dataTable['output_type'] = 'display_data';\n",
              "        await google.colab.output.renderOutput(dataTable, element);\n",
              "        const docLink = document.createElement('div');\n",
              "        docLink.innerHTML = docLinkHtml;\n",
              "        element.appendChild(docLink);\n",
              "      }\n",
              "    </script>\n",
              "  </div>\n",
              "\n",
              "\n",
              "<div id=\"df-89b75828-ce1b-4708-8604-9e5c8fcbaf71\">\n",
              "  <button class=\"colab-df-quickchart\" onclick=\"quickchart('df-89b75828-ce1b-4708-8604-9e5c8fcbaf71')\"\n",
              "            title=\"Suggest charts.\"\n",
              "            style=\"display:none;\">\n",
              "\n",
              "<svg xmlns=\"http://www.w3.org/2000/svg\" height=\"24px\"viewBox=\"0 0 24 24\"\n",
              "     width=\"24px\">\n",
              "    <g>\n",
              "        <path d=\"M19 3H5c-1.1 0-2 .9-2 2v14c0 1.1.9 2 2 2h14c1.1 0 2-.9 2-2V5c0-1.1-.9-2-2-2zM9 17H7v-7h2v7zm4 0h-2V7h2v10zm4 0h-2v-4h2v4z\"/>\n",
              "    </g>\n",
              "</svg>\n",
              "  </button>\n",
              "\n",
              "<style>\n",
              "  .colab-df-quickchart {\n",
              "      --bg-color: #E8F0FE;\n",
              "      --fill-color: #1967D2;\n",
              "      --hover-bg-color: #E2EBFA;\n",
              "      --hover-fill-color: #174EA6;\n",
              "      --disabled-fill-color: #AAA;\n",
              "      --disabled-bg-color: #DDD;\n",
              "  }\n",
              "\n",
              "  [theme=dark] .colab-df-quickchart {\n",
              "      --bg-color: #3B4455;\n",
              "      --fill-color: #D2E3FC;\n",
              "      --hover-bg-color: #434B5C;\n",
              "      --hover-fill-color: #FFFFFF;\n",
              "      --disabled-bg-color: #3B4455;\n",
              "      --disabled-fill-color: #666;\n",
              "  }\n",
              "\n",
              "  .colab-df-quickchart {\n",
              "    background-color: var(--bg-color);\n",
              "    border: none;\n",
              "    border-radius: 50%;\n",
              "    cursor: pointer;\n",
              "    display: none;\n",
              "    fill: var(--fill-color);\n",
              "    height: 32px;\n",
              "    padding: 0;\n",
              "    width: 32px;\n",
              "  }\n",
              "\n",
              "  .colab-df-quickchart:hover {\n",
              "    background-color: var(--hover-bg-color);\n",
              "    box-shadow: 0 1px 2px rgba(60, 64, 67, 0.3), 0 1px 3px 1px rgba(60, 64, 67, 0.15);\n",
              "    fill: var(--button-hover-fill-color);\n",
              "  }\n",
              "\n",
              "  .colab-df-quickchart-complete:disabled,\n",
              "  .colab-df-quickchart-complete:disabled:hover {\n",
              "    background-color: var(--disabled-bg-color);\n",
              "    fill: var(--disabled-fill-color);\n",
              "    box-shadow: none;\n",
              "  }\n",
              "\n",
              "  .colab-df-spinner {\n",
              "    border: 2px solid var(--fill-color);\n",
              "    border-color: transparent;\n",
              "    border-bottom-color: var(--fill-color);\n",
              "    animation:\n",
              "      spin 1s steps(1) infinite;\n",
              "  }\n",
              "\n",
              "  @keyframes spin {\n",
              "    0% {\n",
              "      border-color: transparent;\n",
              "      border-bottom-color: var(--fill-color);\n",
              "      border-left-color: var(--fill-color);\n",
              "    }\n",
              "    20% {\n",
              "      border-color: transparent;\n",
              "      border-left-color: var(--fill-color);\n",
              "      border-top-color: var(--fill-color);\n",
              "    }\n",
              "    30% {\n",
              "      border-color: transparent;\n",
              "      border-left-color: var(--fill-color);\n",
              "      border-top-color: var(--fill-color);\n",
              "      border-right-color: var(--fill-color);\n",
              "    }\n",
              "    40% {\n",
              "      border-color: transparent;\n",
              "      border-right-color: var(--fill-color);\n",
              "      border-top-color: var(--fill-color);\n",
              "    }\n",
              "    60% {\n",
              "      border-color: transparent;\n",
              "      border-right-color: var(--fill-color);\n",
              "    }\n",
              "    80% {\n",
              "      border-color: transparent;\n",
              "      border-right-color: var(--fill-color);\n",
              "      border-bottom-color: var(--fill-color);\n",
              "    }\n",
              "    90% {\n",
              "      border-color: transparent;\n",
              "      border-bottom-color: var(--fill-color);\n",
              "    }\n",
              "  }\n",
              "</style>\n",
              "\n",
              "  <script>\n",
              "    async function quickchart(key) {\n",
              "      const quickchartButtonEl =\n",
              "        document.querySelector('#' + key + ' button');\n",
              "      quickchartButtonEl.disabled = true;  // To prevent multiple clicks.\n",
              "      quickchartButtonEl.classList.add('colab-df-spinner');\n",
              "      try {\n",
              "        const charts = await google.colab.kernel.invokeFunction(\n",
              "            'suggestCharts', [key], {});\n",
              "      } catch (error) {\n",
              "        console.error('Error during call to suggestCharts:', error);\n",
              "      }\n",
              "      quickchartButtonEl.classList.remove('colab-df-spinner');\n",
              "      quickchartButtonEl.classList.add('colab-df-quickchart-complete');\n",
              "    }\n",
              "    (() => {\n",
              "      let quickchartButtonEl =\n",
              "        document.querySelector('#df-89b75828-ce1b-4708-8604-9e5c8fcbaf71 button');\n",
              "      quickchartButtonEl.style.display =\n",
              "        google.colab.kernel.accessAllowed ? 'block' : 'none';\n",
              "    })();\n",
              "  </script>\n",
              "</div>\n",
              "    </div>\n",
              "  </div>\n"
            ]
          },
          "metadata": {},
          "execution_count": 11
        }
      ]
    },
    {
      "cell_type": "code",
      "source": [
        "import seaborn as sns\n",
        "sns.scatterplot(data=df,x=\"yıl\",y=\"gol\",hue=\"mac_sayisi\",palette=\"dark:#5A9_r\")"
      ],
      "metadata": {
        "colab": {
          "base_uri": "https://localhost:8080/",
          "height": 466
        },
        "id": "mHce-0CoqO76",
        "outputId": "8d3ec6b2-68c6-4beb-d3cc-de6906da24c5"
      },
      "execution_count": 13,
      "outputs": [
        {
          "output_type": "execute_result",
          "data": {
            "text/plain": [
              "<Axes: xlabel='yıl', ylabel='gol'>"
            ]
          },
          "metadata": {},
          "execution_count": 13
        },
        {
          "output_type": "display_data",
          "data": {
            "text/plain": [
              "<Figure size 640x480 with 1 Axes>"
            ],
            "image/png": "[encoded data removed]"
          },
          "metadata": {}
        }
      ]
    },
    {
      "cell_type": "code",
      "source": [
        "x=df[[\"yıl\",\"mac_sayisi\"]].values\n",
        "y=df[\"gol\"].values.reshape(-1,1)\n",
        "print(x.shape)\n",
        "print(y.shape)"
      ],
      "metadata": {
        "colab": {
          "base_uri": "https://localhost:8080/"
        },
        "id": "MCFmp48Aqg_k",
        "outputId": "092bebbe-13a9-4487-9629-31bc0cd9fed4"
      },
      "execution_count": 15,
      "outputs": [
        {
          "output_type": "stream",
          "name": "stdout",
          "text": [
            "(14, 2)\n",
            "(14, 1)\n"
          ]
        }
      ]
    },
    {
      "cell_type": "code",
      "source": [
        "model=LinearRegression()\n",
        "model.fit(x,y)"
      ],
      "metadata": {
        "colab": {
          "base_uri": "https://localhost:8080/",
          "height": 75
        },
        "id": "H0t7_zwNrGJ6",
        "outputId": "af315ddd-d7e7-4005-95e7-503dd0f9b8fb"
      },
      "execution_count": 16,
      "outputs": [
        {
          "output_type": "execute_result",
          "data": {
            "text/plain": [
              "LinearRegression()"
            ],
            "text/html": [
              "<style>#sk-container-id-2 {color: black;background-color: white;}#sk-container-id-2 pre{padding: 0;}#sk-container-id-2 div.sk-toggleable {background-color: white;}#sk-container-id-2 label.sk-toggleable__label {cursor: pointer;display: block;width: 100%;margin-bottom: 0;padding: 0.3em;box-sizing: border-box;text-align: center;}#sk-container-id-2 label.sk-toggleable__label-arrow:before {content: \"▸\";float: left;margin-right: 0.25em;color: #696969;}#sk-container-id-2 label.sk-toggleable__label-arrow:hover:before {color: black;}#sk-container-id-2 div.sk-estimator:hover label.sk-toggleable__label-arrow:before {color: black;}#sk-container-id-2 div.sk-toggleable__content {max-height: 0;max-width: 0;overflow: hidden;text-align: left;background-color: #f0f8ff;}#sk-container-id-2 div.sk-toggleable__content pre {margin: 0.2em;color: black;border-radius: 0.25em;background-color: #f0f8ff;}#sk-container-id-2 input.sk-toggleable__control:checked~div.sk-toggleable__content {max-height: 200px;max-width: 100%;overflow: auto;}#sk-container-id-2 input.sk-toggleable__control:checked~label.sk-toggleable__label-arrow:before {content: \"▾\";}#sk-container-id-2 div.sk-estimator input.sk-toggleable__control:checked~label.sk-toggleable__label {background-color: #d4ebff;}#sk-container-id-2 div.sk-label input.sk-toggleable__control:checked~label.sk-toggleable__label {background-color: #d4ebff;}#sk-container-id-2 input.sk-hidden--visually {border: 0;clip: rect(1px 1px 1px 1px);clip: rect(1px, 1px, 1px, 1px);height: 1px;margin: -1px;overflow: hidden;padding: 0;position: absolute;width: 1px;}#sk-container-id-2 div.sk-estimator {font-family: monospace;background-color: #f0f8ff;border: 1px dotted black;border-radius: 0.25em;box-sizing: border-box;margin-bottom: 0.5em;}#sk-container-id-2 div.sk-estimator:hover {background-color: #d4ebff;}#sk-container-id-2 div.sk-parallel-item::after {content: \"\";width: 100%;border-bottom: 1px solid gray;flex-grow: 1;}#sk-container-id-2 div.sk-label:hover label.sk-toggleable__label {background-color: #d4ebff;}#sk-container-id-2 div.sk-serial::before {content: \"\";position: absolute;border-left: 1px solid gray;box-sizing: border-box;top: 0;bottom: 0;left: 50%;z-index: 0;}#sk-container-id-2 div.sk-serial {display: flex;flex-direction: column;align-items: center;background-color: white;padding-right: 0.2em;padding-left: 0.2em;position: relative;}#sk-container-id-2 div.sk-item {position: relative;z-index: 1;}#sk-container-id-2 div.sk-parallel {display: flex;align-items: stretch;justify-content: center;background-color: white;position: relative;}#sk-container-id-2 div.sk-item::before, #sk-container-id-2 div.sk-parallel-item::before {content: \"\";position: absolute;border-left: 1px solid gray;box-sizing: border-box;top: 0;bottom: 0;left: 50%;z-index: -1;}#sk-container-id-2 div.sk-parallel-item {display: flex;flex-direction: column;z-index: 1;position: relative;background-color: white;}#sk-container-id-2 div.sk-parallel-item:first-child::after {align-self: flex-end;width: 50%;}#sk-container-id-2 div.sk-parallel-item:last-child::after {align-self: flex-start;width: 50%;}#sk-container-id-2 div.sk-parallel-item:only-child::after {width: 0;}#sk-container-id-2 div.sk-dashed-wrapped {border: 1px dashed gray;margin: 0 0.4em 0.5em 0.4em;box-sizing: border-box;padding-bottom: 0.4em;background-color: white;}#sk-container-id-2 div.sk-label label {font-family: monospace;font-weight: bold;display: inline-block;line-height: 1.2em;}#sk-container-id-2 div.sk-label-container {text-align: center;}#sk-container-id-2 div.sk-container {/* jupyter's `normalize.less` sets `[hidden] { display: none; }` but bootstrap.min.css set `[hidden] { display: none !important; }` so we also need the `!important` here to be able to override the default hidden behavior on the sphinx rendered scikit-learn.org. See: https://github.com/scikit-learn/scikit-learn/issues/21755 */display: inline-block !important;position: relative;}#sk-container-id-2 div.sk-text-repr-fallback {display: none;}</style><div id=\"sk-container-id-2\" class=\"sk-top-container\"><div class=\"sk-text-repr-fallback\"><pre>LinearRegression()</pre><b>In a Jupyter environment, please rerun this cell to show the HTML representation or trust the notebook. <br />On GitHub, the HTML representation is unable to render, please try loading this page with nbviewer.org.</b></div><div class=\"sk-container\" hidden><div class=\"sk-item\"><div class=\"sk-estimator sk-toggleable\"><input class=\"sk-toggleable__control sk-hidden--visually\" id=\"sk-estimator-id-2\" type=\"checkbox\" checked><label for=\"sk-estimator-id-2\" class=\"sk-toggleable__label sk-toggleable__label-arrow\">LinearRegression</label><div class=\"sk-toggleable__content\"><pre>LinearRegression()</pre></div></div></div></div></div>"
            ]
          },
          "metadata": {},
          "execution_count": 16
        }
      ]
    },
    {
      "cell_type": "code",
      "source": [
        "model.predict([[2024,38]])"
      ],
      "metadata": {
        "colab": {
          "base_uri": "https://localhost:8080/"
        },
        "id": "0g0tTelUrMlO",
        "outputId": "57344ce1-d16e-4e55-a628-c304f3c7bd27"
      },
      "execution_count": 17,
      "outputs": [
        {
          "output_type": "execute_result",
          "data": {
            "text/plain": [
              "array([[72.83831605]])"
            ]
          },
          "metadata": {},
          "execution_count": 17
        }
      ]
    },
    {
      "cell_type": "code",
      "source": [],
      "metadata": {
        "id": "pgjY0_Xord5I"
      },
      "execution_count": null,
      "outputs": []
    }
  ]
}