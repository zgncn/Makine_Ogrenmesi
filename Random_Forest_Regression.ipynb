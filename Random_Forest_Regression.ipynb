{
  "nbformat": 4,
  "nbformat_minor": 0,
  "metadata": {
    "colab": {
      "provenance": []
    },
    "kernelspec": {
      "name": "python3",
      "display_name": "Python 3"
    },
    "language_info": {
      "name": "python"
    }
  },
  "cells": [
    {
      "cell_type": "markdown",
      "source": [
        "![Adsız.png](data:image/png;base64,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)"
      ],
      "metadata": {
        "id": "8x0W4QVFQbJy"
      }
    },
    {
      "cell_type": "markdown",
      "source": [
        "## Ensemble Learning\n",
        "\n",
        "*Aynı veriler üzerinde eğitilen birden fazla modelin kullanılması ve her bir modelin sonuçlarının ortalamasının alınarak daha güçlü bir tahmin/sınıflandırma sonucuna ulaşılması sürecidir. Toplu öğrenme için umudumuz ve gerekliliğimiz, her modelin (bu durumda karar ağacı) hatalarının bağımsız olması ve ağaçtan ağaca farklı olmasıdır."
      ],
      "metadata": {
        "id": "73HuqpiXT9ub"
      }
    },
    {
      "cell_type": "code",
      "source": [
        "import pandas as pd\n",
        "import numpy as np\n",
        "import matplotlib.pyplot as plt\n",
        "from sklearn.ensemble import RandomForestRegressor\n"
      ],
      "metadata": {
        "id": "KQUBS5D6QdVj"
      },
      "execution_count": 5,
      "outputs": []
    },
    {
      "cell_type": "code",
      "source": [
        "df=pd.DataFrame()\n",
        "df[\"Bilet\"]=[1,2,3,4,5,6,7,8,9,10]\n",
        "df[\"Fiyat\"]=[100,80,70,60,50,40,30,20,10,5]\n",
        "df"
      ],
      "metadata": {
        "colab": {
          "base_uri": "https://localhost:8080/",
          "height": 363
        },
        "id": "qCXC7Go7OkhE",
        "outputId": "e20f5b81-453a-4de9-d2e8-4876c9ae7c53"
      },
      "execution_count": 3,
      "outputs": [
        {
          "output_type": "execute_result",
          "data": {
            "text/plain": [
              "   Bilet  Fiyat\n",
              "0      1    100\n",
              "1      2     80\n",
              "2      3     70\n",
              "3      4     60\n",
              "4      5     50\n",
              "5      6     40\n",
              "6      7     30\n",
              "7      8     20\n",
              "8      9     10\n",
              "9     10      5"
            ],
            "text/html": [
              "\n",
              "  <div id=\"df-90294b0b-f3c0-4cf7-986b-4821f8066b37\" class=\"colab-df-container\">\n",
              "    <div>\n",
              "<style scoped>\n",
              "    .dataframe tbody tr th:only-of-type {\n",
              "        vertical-align: middle;\n",
              "    }\n",
              "\n",
              "    .dataframe tbody tr th {\n",
              "        vertical-align: top;\n",
              "    }\n",
              "\n",
              "    .dataframe thead th {\n",
              "        text-align: right;\n",
              "    }\n",
              "</style>\n",
              "<table border=\"1\" class=\"dataframe\">\n",
              "  <thead>\n",
              "    <tr style=\"text-align: right;\">\n",
              "      <th></th>\n",
              "      <th>Bilet</th>\n",
              "      <th>Fiyat</th>\n",
              "    </tr>\n",
              "  </thead>\n",
              "  <tbody>\n",
              "    <tr>\n",
              "      <th>0</th>\n",
              "      <td>1</td>\n",
              "      <td>100</td>\n",
              "    </tr>\n",
              "    <tr>\n",
              "      <th>1</th>\n",
              "      <td>2</td>\n",
              "      <td>80</td>\n",
              "    </tr>\n",
              "    <tr>\n",
              "      <th>2</th>\n",
              "      <td>3</td>\n",
              "      <td>70</td>\n",
              "    </tr>\n",
              "    <tr>\n",
              "      <th>3</th>\n",
              "      <td>4</td>\n",
              "      <td>60</td>\n",
              "    </tr>\n",
              "    <tr>\n",
              "      <th>4</th>\n",
              "      <td>5</td>\n",
              "      <td>50</td>\n",
              "    </tr>\n",
              "    <tr>\n",
              "      <th>5</th>\n",
              "      <td>6</td>\n",
              "      <td>40</td>\n",
              "    </tr>\n",
              "    <tr>\n",
              "      <th>6</th>\n",
              "      <td>7</td>\n",
              "      <td>30</td>\n",
              "    </tr>\n",
              "    <tr>\n",
              "      <th>7</th>\n",
              "      <td>8</td>\n",
              "      <td>20</td>\n",
              "    </tr>\n",
              "    <tr>\n",
              "      <th>8</th>\n",
              "      <td>9</td>\n",
              "      <td>10</td>\n",
              "    </tr>\n",
              "    <tr>\n",
              "      <th>9</th>\n",
              "      <td>10</td>\n",
              "      <td>5</td>\n",
              "    </tr>\n",
              "  </tbody>\n",
              "</table>\n",
              "</div>\n",
              "    <div class=\"colab-df-buttons\">\n",
              "\n",
              "  <div class=\"colab-df-container\">\n",
              "    <button class=\"colab-df-convert\" onclick=\"convertToInteractive('df-90294b0b-f3c0-4cf7-986b-4821f8066b37')\"\n",
              "            title=\"Convert this dataframe to an interactive table.\"\n",
              "            style=\"display:none;\">\n",
              "\n",
              "  <svg xmlns=\"http://www.w3.org/2000/svg\" height=\"24px\" viewBox=\"0 -960 960 960\">\n",
              "    <path d=\"M120-120v-720h720v720H120Zm60-500h600v-160H180v160Zm220 220h160v-160H400v160Zm0 220h160v-160H400v160ZM180-400h160v-160H180v160Zm440 0h160v-160H620v160ZM180-180h160v-160H180v160Zm440 0h160v-160H620v160Z\"/>\n",
              "  </svg>\n",
              "    </button>\n",
              "\n",
              "  <style>\n",
              "    .colab-df-container {\n",
              "      display:flex;\n",
              "      gap: 12px;\n",
              "    }\n",
              "\n",
              "    .colab-df-convert {\n",
              "      background-color: #E8F0FE;\n",
              "      border: none;\n",
              "      border-radius: 50%;\n",
              "      cursor: pointer;\n",
              "      display: none;\n",
              "      fill: #1967D2;\n",
              "      height: 32px;\n",
              "      padding: 0 0 0 0;\n",
              "      width: 32px;\n",
              "    }\n",
              "\n",
              "    .colab-df-convert:hover {\n",
              "      background-color: #E2EBFA;\n",
              "      box-shadow: 0px 1px 2px rgba(60, 64, 67, 0.3), 0px 1px 3px 1px rgba(60, 64, 67, 0.15);\n",
              "      fill: #174EA6;\n",
              "    }\n",
              "\n",
              "    .colab-df-buttons div {\n",
              "      margin-bottom: 4px;\n",
              "    }\n",
              "\n",
              "    [theme=dark] .colab-df-convert {\n",
              "      background-color: #3B4455;\n",
              "      fill: #D2E3FC;\n",
              "    }\n",
              "\n",
              "    [theme=dark] .colab-df-convert:hover {\n",
              "      background-color: #434B5C;\n",
              "      box-shadow: 0px 1px 3px 1px rgba(0, 0, 0, 0.15);\n",
              "      filter: drop-shadow(0px 1px 2px rgba(0, 0, 0, 0.3));\n",
              "      fill: #FFFFFF;\n",
              "    }\n",
              "  </style>\n",
              "\n",
              "    <script>\n",
              "      const buttonEl =\n",
              "        document.querySelector('#df-90294b0b-f3c0-4cf7-986b-4821f8066b37 button.colab-df-convert');\n",
              "      buttonEl.style.display =\n",
              "        google.colab.kernel.accessAllowed ? 'block' : 'none';\n",
              "\n",
              "      async function convertToInteractive(key) {\n",
              "        const element = document.querySelector('#df-90294b0b-f3c0-4cf7-986b-4821f8066b37');\n",
              "        const dataTable =\n",
              "          await google.colab.kernel.invokeFunction('convertToInteractive',\n",
              "                                                    [key], {});\n",
              "        if (!dataTable) return;\n",
              "\n",
              "        const docLinkHtml = 'Like what you see? Visit the ' +\n",
              "          '<a target=\"_blank\" href=https://colab.research.google.com/notebooks/data_table.ipynb>data table notebook</a>'\n",
              "          + ' to learn more about interactive tables.';\n",
              "        element.innerHTML = '';\n",
              "        dataTable['output_type'] = 'display_data';\n",
              "        await google.colab.output.renderOutput(dataTable, element);\n",
              "        const docLink = document.createElement('div');\n",
              "        docLink.innerHTML = docLinkHtml;\n",
              "        element.appendChild(docLink);\n",
              "      }\n",
              "    </script>\n",
              "  </div>\n",
              "\n",
              "\n",
              "<div id=\"df-d2b11d5a-3d69-462d-a166-686c86eb5f27\">\n",
              "  <button class=\"colab-df-quickchart\" onclick=\"quickchart('df-d2b11d5a-3d69-462d-a166-686c86eb5f27')\"\n",
              "            title=\"Suggest charts.\"\n",
              "            style=\"display:none;\">\n",
              "\n",
              "<svg xmlns=\"http://www.w3.org/2000/svg\" height=\"24px\"viewBox=\"0 0 24 24\"\n",
              "     width=\"24px\">\n",
              "    <g>\n",
              "        <path d=\"M19 3H5c-1.1 0-2 .9-2 2v14c0 1.1.9 2 2 2h14c1.1 0 2-.9 2-2V5c0-1.1-.9-2-2-2zM9 17H7v-7h2v7zm4 0h-2V7h2v10zm4 0h-2v-4h2v4z\"/>\n",
              "    </g>\n",
              "</svg>\n",
              "  </button>\n",
              "\n",
              "<style>\n",
              "  .colab-df-quickchart {\n",
              "      --bg-color: #E8F0FE;\n",
              "      --fill-color: #1967D2;\n",
              "      --hover-bg-color: #E2EBFA;\n",
              "      --hover-fill-color: #174EA6;\n",
              "      --disabled-fill-color: #AAA;\n",
              "      --disabled-bg-color: #DDD;\n",
              "  }\n",
              "\n",
              "  [theme=dark] .colab-df-quickchart {\n",
              "      --bg-color: #3B4455;\n",
              "      --fill-color: #D2E3FC;\n",
              "      --hover-bg-color: #434B5C;\n",
              "      --hover-fill-color: #FFFFFF;\n",
              "      --disabled-bg-color: #3B4455;\n",
              "      --disabled-fill-color: #666;\n",
              "  }\n",
              "\n",
              "  .colab-df-quickchart {\n",
              "    background-color: var(--bg-color);\n",
              "    border: none;\n",
              "    border-radius: 50%;\n",
              "    cursor: pointer;\n",
              "    display: none;\n",
              "    fill: var(--fill-color);\n",
              "    height: 32px;\n",
              "    padding: 0;\n",
              "    width: 32px;\n",
              "  }\n",
              "\n",
              "  .colab-df-quickchart:hover {\n",
              "    background-color: var(--hover-bg-color);\n",
              "    box-shadow: 0 1px 2px rgba(60, 64, 67, 0.3), 0 1px 3px 1px rgba(60, 64, 67, 0.15);\n",
              "    fill: var(--button-hover-fill-color);\n",
              "  }\n",
              "\n",
              "  .colab-df-quickchart-complete:disabled,\n",
              "  .colab-df-quickchart-complete:disabled:hover {\n",
              "    background-color: var(--disabled-bg-color);\n",
              "    fill: var(--disabled-fill-color);\n",
              "    box-shadow: none;\n",
              "  }\n",
              "\n",
              "  .colab-df-spinner {\n",
              "    border: 2px solid var(--fill-color);\n",
              "    border-color: transparent;\n",
              "    border-bottom-color: var(--fill-color);\n",
              "    animation:\n",
              "      spin 1s steps(1) infinite;\n",
              "  }\n",
              "\n",
              "  @keyframes spin {\n",
              "    0% {\n",
              "      border-color: transparent;\n",
              "      border-bottom-color: var(--fill-color);\n",
              "      border-left-color: var(--fill-color);\n",
              "    }\n",
              "    20% {\n",
              "      border-color: transparent;\n",
              "      border-left-color: var(--fill-color);\n",
              "      border-top-color: var(--fill-color);\n",
              "    }\n",
              "    30% {\n",
              "      border-color: transparent;\n",
              "      border-left-color: var(--fill-color);\n",
              "      border-top-color: var(--fill-color);\n",
              "      border-right-color: var(--fill-color);\n",
              "    }\n",
              "    40% {\n",
              "      border-color: transparent;\n",
              "      border-right-color: var(--fill-color);\n",
              "      border-top-color: var(--fill-color);\n",
              "    }\n",
              "    60% {\n",
              "      border-color: transparent;\n",
              "      border-right-color: var(--fill-color);\n",
              "    }\n",
              "    80% {\n",
              "      border-color: transparent;\n",
              "      border-right-color: var(--fill-color);\n",
              "      border-bottom-color: var(--fill-color);\n",
              "    }\n",
              "    90% {\n",
              "      border-color: transparent;\n",
              "      border-bottom-color: var(--fill-color);\n",
              "    }\n",
              "  }\n",
              "</style>\n",
              "\n",
              "  <script>\n",
              "    async function quickchart(key) {\n",
              "      const quickchartButtonEl =\n",
              "        document.querySelector('#' + key + ' button');\n",
              "      quickchartButtonEl.disabled = true;  // To prevent multiple clicks.\n",
              "      quickchartButtonEl.classList.add('colab-df-spinner');\n",
              "      try {\n",
              "        const charts = await google.colab.kernel.invokeFunction(\n",
              "            'suggestCharts', [key], {});\n",
              "      } catch (error) {\n",
              "        console.error('Error during call to suggestCharts:', error);\n",
              "      }\n",
              "      quickchartButtonEl.classList.remove('colab-df-spinner');\n",
              "      quickchartButtonEl.classList.add('colab-df-quickchart-complete');\n",
              "    }\n",
              "    (() => {\n",
              "      let quickchartButtonEl =\n",
              "        document.querySelector('#df-d2b11d5a-3d69-462d-a166-686c86eb5f27 button');\n",
              "      quickchartButtonEl.style.display =\n",
              "        google.colab.kernel.accessAllowed ? 'block' : 'none';\n",
              "    })();\n",
              "  </script>\n",
              "</div>\n",
              "    </div>\n",
              "  </div>\n"
            ]
          },
          "metadata": {},
          "execution_count": 3
        }
      ]
    },
    {
      "cell_type": "code",
      "source": [
        "X=df[\"Bilet\"].values.reshape(-1,1)\n",
        "y=df[\"Fiyat\"].values.reshape(-1,1)"
      ],
      "metadata": {
        "id": "00Gtyz3gRAKs"
      },
      "execution_count": 4,
      "outputs": []
    },
    {
      "cell_type": "code",
      "source": [
        "model=RandomForestRegressor(n_estimators=100,random_state=42)#100 tane decision tree\n",
        "#random state; sampleri aynı bölmeyi sağlar her çalıştırdığımızda"
      ],
      "metadata": {
        "id": "Sh0IPdH7RPvm"
      },
      "execution_count": 21,
      "outputs": []
    },
    {
      "cell_type": "code",
      "source": [
        "model.fit(X,y)"
      ],
      "metadata": {
        "colab": {
          "base_uri": "https://localhost:8080/",
          "height": 129
        },
        "id": "c9Ex7sXBRhnG",
        "outputId": "b4b6a0a9-53e8-405a-9f34-720ef6c3097d"
      },
      "execution_count": 7,
      "outputs": [
        {
          "output_type": "stream",
          "name": "stderr",
          "text": [
            "<ipython-input-7-4c1a2828403e>:1: DataConversionWarning: A column-vector y was passed when a 1d array was expected. Please change the shape of y to (n_samples,), for example using ravel().\n",
            "  model.fit(X,y)\n"
          ]
        },
        {
          "output_type": "execute_result",
          "data": {
            "text/plain": [
              "RandomForestRegressor(random_state=42)"
            ],
            "text/html": [
              "<style>#sk-container-id-1 {color: black;background-color: white;}#sk-container-id-1 pre{padding: 0;}#sk-container-id-1 div.sk-toggleable {background-color: white;}#sk-container-id-1 label.sk-toggleable__label {cursor: pointer;display: block;width: 100%;margin-bottom: 0;padding: 0.3em;box-sizing: border-box;text-align: center;}#sk-container-id-1 label.sk-toggleable__label-arrow:before {content: \"▸\";float: left;margin-right: 0.25em;color: #696969;}#sk-container-id-1 label.sk-toggleable__label-arrow:hover:before {color: black;}#sk-container-id-1 div.sk-estimator:hover label.sk-toggleable__label-arrow:before {color: black;}#sk-container-id-1 div.sk-toggleable__content {max-height: 0;max-width: 0;overflow: hidden;text-align: left;background-color: #f0f8ff;}#sk-container-id-1 div.sk-toggleable__content pre {margin: 0.2em;color: black;border-radius: 0.25em;background-color: #f0f8ff;}#sk-container-id-1 input.sk-toggleable__control:checked~div.sk-toggleable__content {max-height: 200px;max-width: 100%;overflow: auto;}#sk-container-id-1 input.sk-toggleable__control:checked~label.sk-toggleable__label-arrow:before {content: \"▾\";}#sk-container-id-1 div.sk-estimator input.sk-toggleable__control:checked~label.sk-toggleable__label {background-color: #d4ebff;}#sk-container-id-1 div.sk-label input.sk-toggleable__control:checked~label.sk-toggleable__label {background-color: #d4ebff;}#sk-container-id-1 input.sk-hidden--visually {border: 0;clip: rect(1px 1px 1px 1px);clip: rect(1px, 1px, 1px, 1px);height: 1px;margin: -1px;overflow: hidden;padding: 0;position: absolute;width: 1px;}#sk-container-id-1 div.sk-estimator {font-family: monospace;background-color: #f0f8ff;border: 1px dotted black;border-radius: 0.25em;box-sizing: border-box;margin-bottom: 0.5em;}#sk-container-id-1 div.sk-estimator:hover {background-color: #d4ebff;}#sk-container-id-1 div.sk-parallel-item::after {content: \"\";width: 100%;border-bottom: 1px solid gray;flex-grow: 1;}#sk-container-id-1 div.sk-label:hover label.sk-toggleable__label {background-color: #d4ebff;}#sk-container-id-1 div.sk-serial::before {content: \"\";position: absolute;border-left: 1px solid gray;box-sizing: border-box;top: 0;bottom: 0;left: 50%;z-index: 0;}#sk-container-id-1 div.sk-serial {display: flex;flex-direction: column;align-items: center;background-color: white;padding-right: 0.2em;padding-left: 0.2em;position: relative;}#sk-container-id-1 div.sk-item {position: relative;z-index: 1;}#sk-container-id-1 div.sk-parallel {display: flex;align-items: stretch;justify-content: center;background-color: white;position: relative;}#sk-container-id-1 div.sk-item::before, #sk-container-id-1 div.sk-parallel-item::before {content: \"\";position: absolute;border-left: 1px solid gray;box-sizing: border-box;top: 0;bottom: 0;left: 50%;z-index: -1;}#sk-container-id-1 div.sk-parallel-item {display: flex;flex-direction: column;z-index: 1;position: relative;background-color: white;}#sk-container-id-1 div.sk-parallel-item:first-child::after {align-self: flex-end;width: 50%;}#sk-container-id-1 div.sk-parallel-item:last-child::after {align-self: flex-start;width: 50%;}#sk-container-id-1 div.sk-parallel-item:only-child::after {width: 0;}#sk-container-id-1 div.sk-dashed-wrapped {border: 1px dashed gray;margin: 0 0.4em 0.5em 0.4em;box-sizing: border-box;padding-bottom: 0.4em;background-color: white;}#sk-container-id-1 div.sk-label label {font-family: monospace;font-weight: bold;display: inline-block;line-height: 1.2em;}#sk-container-id-1 div.sk-label-container {text-align: center;}#sk-container-id-1 div.sk-container {/* jupyter's `normalize.less` sets `[hidden] { display: none; }` but bootstrap.min.css set `[hidden] { display: none !important; }` so we also need the `!important` here to be able to override the default hidden behavior on the sphinx rendered scikit-learn.org. See: https://github.com/scikit-learn/scikit-learn/issues/21755 */display: inline-block !important;position: relative;}#sk-container-id-1 div.sk-text-repr-fallback {display: none;}</style><div id=\"sk-container-id-1\" class=\"sk-top-container\"><div class=\"sk-text-repr-fallback\"><pre>RandomForestRegressor(random_state=42)</pre><b>In a Jupyter environment, please rerun this cell to show the HTML representation or trust the notebook. <br />On GitHub, the HTML representation is unable to render, please try loading this page with nbviewer.org.</b></div><div class=\"sk-container\" hidden><div class=\"sk-item\"><div class=\"sk-estimator sk-toggleable\"><input class=\"sk-toggleable__control sk-hidden--visually\" id=\"sk-estimator-id-1\" type=\"checkbox\" checked><label for=\"sk-estimator-id-1\" class=\"sk-toggleable__label sk-toggleable__label-arrow\">RandomForestRegressor</label><div class=\"sk-toggleable__content\"><pre>RandomForestRegressor(random_state=42)</pre></div></div></div></div></div>"
            ]
          },
          "metadata": {},
          "execution_count": 7
        }
      ]
    },
    {
      "cell_type": "code",
      "source": [
        "print(f\"7.8 seviyesinde fiyat: {model.predict([[7.8]])[0]}\")"
      ],
      "metadata": {
        "colab": {
          "base_uri": "https://localhost:8080/"
        },
        "id": "rGS1RlWWSBzJ",
        "outputId": "3de599ad-9381-480b-b07c-8a096f9d24c4"
      },
      "execution_count": 12,
      "outputs": [
        {
          "output_type": "stream",
          "name": "stdout",
          "text": [
            "7.5 seviyesinde fiyat: 22.7\n"
          ]
        }
      ]
    },
    {
      "cell_type": "code",
      "source": [
        "X_=np.arange(min(X),max(X),0.01).reshape(-1,1)\n",
        "y_head=model.predict(x_)"
      ],
      "metadata": {
        "id": "E1u0hNLjSYj6"
      },
      "execution_count": 18,
      "outputs": []
    },
    {
      "cell_type": "code",
      "source": [
        "plt.figure(figsize=(8,10))\n",
        "\n",
        "plt.scatter(X,y,color=\"red\")\n",
        "plt.plot(X_,y_head,color=\"blue\")\n",
        "plt.ylabel(\"Fiyat\")\n",
        "plt.xlabel(\"Bilet Tipi\")\n",
        "plt.show()"
      ],
      "metadata": {
        "colab": {
          "base_uri": "https://localhost:8080/",
          "height": 850
        },
        "id": "hTildlWkSllO",
        "outputId": "592ac6e9-79b0-4d3e-c211-58887a7f7f9c"
      },
      "execution_count": 20,
      "outputs": [
        {
          "output_type": "display_data",
          "data": {
            "text/plain": [
              "<Figure size 800x1000 with 1 Axes>"
            ],
            "image/png": "[encoded data removed]"
          },
          "metadata": {}
        }
      ]
    },
    {
      "cell_type": "code",
      "source": [],
      "metadata": {
        "id": "d_h-uZ5KS2Co"
      },
      "execution_count": null,
      "outputs": []
    }
  ]
}